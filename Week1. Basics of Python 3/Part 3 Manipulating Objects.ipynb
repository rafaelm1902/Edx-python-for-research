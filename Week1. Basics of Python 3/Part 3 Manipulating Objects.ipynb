{
 "cells": [
  {
   "cell_type": "markdown",
   "metadata": {},
   "source": [
    "# 1.3.1 Dynamic Typing\n"
   ]
  },
  {
   "cell_type": "markdown",
   "metadata": {},
   "source": [
    "Typing or assigning data types refers to the set of rules\n",
    "that the language uses to ensure that the part of the program receiving\n",
    "the data knows how to correctly interpret that data.\n",
    "\n",
    "Some languages are statically typed, like C or C++,\n",
    "and other languages are dynamically typed, like Python.\n",
    "\n",
    "Static typing means that type checking is performed during compile time,\n",
    "whereas dynamic typing means that type checking is performed at run time.\n",
    "\n",
    "If we tell Python x is equal to 3, how does Python\n",
    "know that x should stand for an integer?\n",
    "\n",
    "There are three important concepts here-- variable, object, and reference.\n",
    "\n",
    "So when you assign variables to objects in Python, the following three things happen.\n",
    "\n",
    "First, if we type x = 3, the first thing Python will dois create the object, in this case, number 3.\n",
    "\n",
    "The second thing Python will do is it will create the variable name, x.\n",
    "\n",
    "The third thing is Python will insert a reference from the name of the variable to the actual object.\n",
    "\n",
    "A key point to remember here is that variable names always link to objects, never to other variables.\n",
    "A variable is, therefore, a reference to the given object."
   ]
  },
  {
   "cell_type": "code",
   "execution_count": 1,
   "metadata": {},
   "outputs": [],
   "source": [
    "# To illustrate dynamic typing, I've written down here three lines of code, for immutable objects. Objects that cannot be \n",
    "# changed and so news ones are made. \n",
    "\n",
    "x = 3\n",
    "# first creates the object, 3, then it creates the variable name, x,and, finally it inserts reference from the \n",
    "# variable name to the object itself.\n",
    "\n",
    "y = x\n",
    "# The object x, in this case number 3, already exists. The next step Python does is it creates a new variable name, which\n",
    "# is equal to y, and then it inserts a reference to the object that x, variable name x, is currently referencing.\n",
    "\n",
    "#Remember, a variable cannot reference another variable. A variable can only reference an object. In this case y references 3. \n",
    "\n",
    "y = y-1\n",
    "# Python first looks at the object here, which is our number 3. But we know that numbers are immutable.\n",
    "# Therefore, in order to do the subtraction, a new object has to be created, which in this case is the number 2.\n",
    "# We already have the variable name y in our computer's memory. So the final thing Python does is, it removes this reference\n",
    "# and inserts a reference from y to the object 2."
   ]
  },
  {
   "cell_type": "code",
   "execution_count": null,
   "metadata": {},
   "outputs": [],
   "source": [
    "# Let's then look at dynamic typing for mutable objects.\n",
    "\n",
    "L1 = [2,3,4]\n",
    "# First python creates the object-- list 2, 3, 4. The second step, Python creates the variable name L1.\n",
    "# And third, because of the assignment, L1 will reference this list.\n",
    "\n",
    "L2 = L1\n",
    "# The first thing is it creates the variable name L2. Because L2 cannot reference L1, which is another variable,\n",
    "# it must reference the object that L1 references. Therefore, L2 essentially becomes a synonym for the very same object.\n",
    "\n",
    "\n",
    "L1[0] = 24 \n",
    "# In this case, what happens is we are using the name L1 to reference this object, and we're modifying\n",
    "# the content of the number at location 0 from 2 to 24. After this modification, the content of the list is going to be \n",
    "# 24, 3, and 4. if you understand how dynamic typing works in Python, you have realized that we only have two names that\n",
    "# reference the very same object. The last line, L1 at location 0 equals 24 would have been identical to typing L2 at \n",
    "# location 0 equals 24. This is again for the reason that both of these variable names, L1 and L2, reference the very same object."
   ]
  },
  {
   "cell_type": "code",
   "execution_count": 3,
   "metadata": {},
   "outputs": [],
   "source": [
    "# Each object in Python has a type, value, and an identity. \n",
    "# Mutable objects in Python can be identical in content and yet be actually different objects.\n",
    "\n",
    "L = [1,2,3]\n",
    "\n",
    "M = [1,2,3]"
   ]
  },
  {
   "cell_type": "code",
   "execution_count": 4,
   "metadata": {},
   "outputs": [
    {
     "data": {
      "text/plain": [
       "True"
      ]
     },
     "execution_count": 4,
     "metadata": {},
     "output_type": "execute_result"
    }
   ],
   "source": [
    "L == M # Is L eqaul to M?\n",
    "\n",
    "# When we're comparing two lists, the actual comparison is carried out element-wise.\n",
    "# So this 0-th element in L is compared with the 0-th element of M, and so forth.\n",
    "#In this case, the content of these two lists is identical."
   ]
  },
  {
   "cell_type": "code",
   "execution_count": 5,
   "metadata": {},
   "outputs": [
    {
     "data": {
      "text/plain": [
       "False"
      ]
     },
     "execution_count": 5,
     "metadata": {},
     "output_type": "execute_result"
    }
   ],
   "source": [
    "L is M # Is L the same object as M? Why is it false?"
   ]
  },
  {
   "cell_type": "code",
   "execution_count": 6,
   "metadata": {},
   "outputs": [
    {
     "data": {
      "text/plain": [
       "1666788255624"
      ]
     },
     "execution_count": 6,
     "metadata": {},
     "output_type": "execute_result"
    }
   ],
   "source": [
    "# We can use the id function to obtain the identity of an object. And the number returned by Python corresponds \n",
    "# to the object's location in memory.\n",
    "\n",
    "id(L)"
   ]
  },
  {
   "cell_type": "code",
   "execution_count": 7,
   "metadata": {},
   "outputs": [
    {
     "data": {
      "text/plain": [
       "1666790017800"
      ]
     },
     "execution_count": 7,
     "metadata": {},
     "output_type": "execute_result"
    }
   ],
   "source": [
    "id(M) # These are sort of identity numbers for different objects. Thus type Lis M, is the same as asking if L and M have \n",
    "# the same identity numbers\n",
    "\n",
    "# The main point here is that mutable objects can be identical in content, yet be different objects."
   ]
  },
  {
   "cell_type": "code",
   "execution_count": 8,
   "metadata": {},
   "outputs": [],
   "source": [
    "L = [1,2,3]\n",
    "# What if I wanted to create a copy of that list? Remember, if I type M = L, in that case\n",
    "# M is just another name for the same list, L.\n",
    "\n",
    "# But what if I wanted to create a completely new object that has identical content to L? We type: \n",
    "\n",
    "M = list(L)"
   ]
  },
  {
   "cell_type": "code",
   "execution_count": 9,
   "metadata": {},
   "outputs": [
    {
     "data": {
      "text/plain": [
       "True"
      ]
     },
     "execution_count": 9,
     "metadata": {},
     "output_type": "execute_result"
    }
   ],
   "source": [
    "M == L"
   ]
  },
  {
   "cell_type": "code",
   "execution_count": 10,
   "metadata": {},
   "outputs": [
    {
     "data": {
      "text/plain": [
       "False"
      ]
     },
     "execution_count": 10,
     "metadata": {},
     "output_type": "execute_result"
    }
   ],
   "source": [
    "M is L"
   ]
  },
  {
   "cell_type": "code",
   "execution_count": 11,
   "metadata": {},
   "outputs": [],
   "source": [
    "# Another way to create a copy of a list is to use the slicing syntax.\n",
    "\n",
    "M = L[:]"
   ]
  },
  {
   "cell_type": "markdown",
   "metadata": {},
   "source": [
    "# 1.3.2: Copies\n"
   ]
  },
  {
   "cell_type": "markdown",
   "metadata": {},
   "source": [
    "For more complex structures, Python provides\n",
    "the copy module, which you can use for creating identical copies of object.\n",
    "\n",
    "There are two types of copies that are available.\n",
    "\n",
    "A shallow copy constructs a new compound object\n",
    "and then insert its references into it to the original object.\n",
    "\n",
    "In contrast, a deep copy constructs a new compound object and then\n",
    "recursively inserts copies into it of the original objects.\n",
    "\n",
    "Imagine having the object X, which reference a and b. A shallow copy creates an X'(copy of x) and X' will also reference a and b.\n",
    "\n",
    "A deep copy instead of having X' prime referencing  a and b, it will also create copies of a and b, a' and b' and reference those instead. "
   ]
  },
  {
   "cell_type": "code",
   "execution_count": 12,
   "metadata": {},
   "outputs": [
    {
     "data": {
      "text/plain": [
       "False"
      ]
     },
     "execution_count": 12,
     "metadata": {},
     "output_type": "execute_result"
    }
   ],
   "source": [
    "import copy\n",
    "x = [1,[2]]\n",
    "y = copy.copy(x)\n",
    "z = copy.deepcopy(x)\n",
    "y is z"
   ]
  },
  {
   "cell_type": "markdown",
   "metadata": {},
   "source": [
    "# 1.3.3: Statements\n"
   ]
  },
  {
   "cell_type": "markdown",
   "metadata": {},
   "source": [
    "Statements are used to compute values, assign values, and modify attributes,\n",
    "among many other things.\n",
    "\n",
    "Here are three examples of more specialized statements:\n",
    "\n",
    "The return statement is used to return values from a function.\n",
    "\n",
    "The import statement, which is used to import modules\n",
    " \n",
    "Finally, the pass statement is used to do nothing\n",
    "in situations where we need a placeholder for syntactical reasons.\n",
    "\n",
    "We also have compound statements.Compound statements contain groups of other statements, and they affect or control the execution of those other statements in some way.\n",
    "\n",
    "Compound statements typically span multiple lines. A compound statement consists of one or more clauses,\n",
    "where a clause consist of a header and a block or a suite of code.\n",
    "\n",
    "The close headers of a particular compound statement start with a keyword, end with a colon, and are\n",
    "all at the same indentation level.\n",
    "\n",
    "A block or a suite of code of each clause,\n",
    "however, must be indented to indicate that it forms a group of statements\n",
    "that logically fall under that header."
   ]
  },
  {
   "cell_type": "code",
   "execution_count": 18,
   "metadata": {},
   "outputs": [
    {
     "name": "stdout",
     "output_type": "stream",
     "text": [
      "x is greater than y\n",
      "But this gets printed no matter what\n"
     ]
    }
   ],
   "source": [
    "# Here's an example of compound statement with one clause.\n",
    "\n",
    "if x > y: # The header line\n",
    "    difference = x - y # part of block of code\n",
    "    print(\"x is greater than y\") # part block of code\n",
    "print(\"But this gets printed no matter what\")\n",
    "\n",
    "x = 3\n",
    "y = 2\n",
    "# On line 1, we first ask, if x is greater than y followed by a colon. If this is true, if x really is greater than y,\n",
    "# then Python will run lines 2 and 3.\n",
    "\n",
    "# On line 2, we're calculating the difference as x minus y.\n",
    "\n",
    "# On line 3, we are printing out the message, x is greater than y.\n",
    "\n",
    "# Regardless of what happens with the comparison,line 4 will always get printed."
   ]
  },
  {
   "cell_type": "code",
   "execution_count": 20,
   "metadata": {},
   "outputs": [
    {
     "ename": "SyntaxError",
     "evalue": "invalid syntax (<ipython-input-20-55fc2dff63be>, line 5)",
     "output_type": "error",
     "traceback": [
      "\u001b[1;36m  File \u001b[1;32m\"<ipython-input-20-55fc2dff63be>\"\u001b[1;36m, line \u001b[1;32m5\u001b[0m\n\u001b[1;33m    [block of code]\u001b[0m\n\u001b[1;37m            ^\u001b[0m\n\u001b[1;31mSyntaxError\u001b[0m\u001b[1;31m:\u001b[0m invalid syntax\n"
     ]
    }
   ],
   "source": [
    "# A key point to realize here is that in Python, indentation is not just cosmetic.\n",
    "# The way you indent your programs determines the logical structure of your programs.\n",
    "\n",
    "if test:\n",
    "    [block of code]\n",
    "elif test:\n",
    "    [block of code]\n",
    "else:\n",
    "    [block of code]\n",
    "    \n",
    "# The if statement selects from among one or more actions, and it runs the block of code that's associated with the first if\n",
    "# or elif test that happens to be true. If none of these are true, then it runs the else block.    "
   ]
  },
  {
   "cell_type": "code",
   "execution_count": null,
   "metadata": {},
   "outputs": [],
   "source": [
    "if x > y:\n",
    "    absval = x - y \n",
    "elif y > x:\n",
    "    absval = y - x\n",
    "else:\n",
    "    absval = 0\n",
    "    \n",
    "# On line 1, we ask first, if x is greater than y? If that is true, on line 2, we will assign absolute value as x minus y.\n",
    "# If the if statement on line 1 fails, we'll next look at line 3. There we're asking, if y happens to be greater than x?\n",
    "# If that's true, on line 4, we will define absval as y minus x.If that's also not true, then Python will proceed\n",
    "# to line 5, which is the else statement. In that case, we will define absval as being equal to 0 on line 6.\n",
    "\n",
    "# Remember, Python goes through these different conditions in if and elif clauses until it finds the first statement \n",
    "# that is true. If all else fails, Python will then execute the else statement."
   ]
  },
  {
   "cell_type": "code",
   "execution_count": 21,
   "metadata": {},
   "outputs": [
    {
     "name": "stdout",
     "output_type": "stream",
     "text": [
      "Now True!\n"
     ]
    }
   ],
   "source": [
    "if False:\n",
    "    print(\"False!\")\n",
    "elif True:\n",
    "    print(\"Now True!\")\n",
    "else:\n",
    "    print(\"Finally True!\")\n",
    "\n",
    "# We take the input to be True"
   ]
  },
  {
   "cell_type": "code",
   "execution_count": 32,
   "metadata": {},
   "outputs": [
    {
     "ename": "NameError",
     "evalue": "name 'n' is not defined",
     "output_type": "error",
     "traceback": [
      "\u001b[1;31m---------------------------------------------------------------------------\u001b[0m",
      "\u001b[1;31mNameError\u001b[0m                                 Traceback (most recent call last)",
      "\u001b[1;32m<ipython-input-32-4c4124755547>\u001b[0m in \u001b[0;36m<module>\u001b[1;34m\u001b[0m\n\u001b[1;32m----> 1\u001b[1;33m \u001b[1;32mif\u001b[0m \u001b[0mn\u001b[0m\u001b[1;33m%\u001b[0m\u001b[1;36m2\u001b[0m \u001b[1;33m==\u001b[0m \u001b[1;36m0\u001b[0m\u001b[1;33m:\u001b[0m\u001b[1;33m\u001b[0m\u001b[1;33m\u001b[0m\u001b[0m\n\u001b[0m\u001b[0;32m      2\u001b[0m     \u001b[0mprint\u001b[0m\u001b[1;33m(\u001b[0m\u001b[1;34m\"even\"\u001b[0m\u001b[1;33m)\u001b[0m\u001b[1;33m\u001b[0m\u001b[1;33m\u001b[0m\u001b[0m\n\u001b[0;32m      3\u001b[0m \u001b[1;32melse\u001b[0m\u001b[1;33m:\u001b[0m\u001b[1;33m\u001b[0m\u001b[1;33m\u001b[0m\u001b[0m\n\u001b[0;32m      4\u001b[0m     \u001b[0mprint\u001b[0m\u001b[1;33m(\u001b[0m\u001b[1;34m\"odd\"\u001b[0m\u001b[1;33m)\u001b[0m\u001b[1;33m\u001b[0m\u001b[1;33m\u001b[0m\u001b[0m\n\u001b[0;32m      5\u001b[0m \u001b[1;33m\u001b[0m\u001b[0m\n",
      "\u001b[1;31mNameError\u001b[0m: name 'n' is not defined"
     ]
    }
   ],
   "source": [
    "if n%2 == 0:\n",
    "    print(\"even\")\n",
    "else:\n",
    "    print(\"odd\")\n",
    "\n",
    "n = 4"
   ]
  },
  {
   "cell_type": "markdown",
   "metadata": {},
   "source": [
    "# 1.3.4: For and While Loops\n"
   ]
  },
  {
   "cell_type": "markdown",
   "metadata": {},
   "source": [
    "The For Loop is a sequence iteration that assigns items in sequence\n",
    "to target one at a time and runs the block of code for each item.\n",
    "\n",
    "Unless the loop is terminated early with the break statement, the block of code\n",
    "is run as many times as there are items in the sequence."
   ]
  },
  {
   "cell_type": "code",
   "execution_count": 33,
   "metadata": {},
   "outputs": [
    {
     "name": "stdout",
     "output_type": "stream",
     "text": [
      "0\n",
      "1\n",
      "2\n",
      "3\n",
      "4\n",
      "5\n",
      "6\n",
      "7\n",
      "8\n",
      "9\n"
     ]
    }
   ],
   "source": [
    "# Let's first set up a sequence of 10 numbers.\n",
    "\n",
    "for x in range(10): \n",
    "    print(x)\n",
    "\n",
    "# Python loops over the range sequence and prints out the numbers one at a time."
   ]
  },
  {
   "cell_type": "code",
   "execution_count": 35,
   "metadata": {},
   "outputs": [
    {
     "data": {
      "text/plain": [
       "['Jim', 'Tom', 'Nick', 'Pam', 'Sam', 'Tim']"
      ]
     },
     "execution_count": 35,
     "metadata": {},
     "output_type": "execute_result"
    }
   ],
   "source": [
    "names = [\"Jim\", \"Tom\", \"Nick\", \"Pam\", \"Sam\", \"Tim\"]\n",
    "names"
   ]
  },
  {
   "cell_type": "code",
   "execution_count": 37,
   "metadata": {},
   "outputs": [
    {
     "name": "stdout",
     "output_type": "stream",
     "text": [
      "Jim\n",
      "Tom\n",
      "Nick\n",
      "Pam\n",
      "Sam\n",
      "Tim\n"
     ]
    }
   ],
   "source": [
    "for name in names:\n",
    "    print(name)\n",
    "\n",
    "# So what Python is doing is it's going over my list of names and it's printing them out one at a time."
   ]
  },
  {
   "cell_type": "code",
   "execution_count": 38,
   "metadata": {},
   "outputs": [
    {
     "name": "stdout",
     "output_type": "stream",
     "text": [
      "Jim\n",
      "Tom\n",
      "Nick\n",
      "Pam\n",
      "Sam\n",
      "Tim\n"
     ]
    }
   ],
   "source": [
    "#So let's try to implement this code in a slightly different way.\n",
    "\n",
    "for i in range(len(names)):\n",
    "    print(names[i])\n",
    "\n",
    "# So what I'm doing here is I'm asking Python to return the length of the names list, then I'm constructing a range object.\n",
    "# Then I'll type print names and I use i to index a location on my list.\n",
    "\n",
    "# What I have done here is I've created a range\n",
    "# object that goes over all of the index locations of the list names."
   ]
  },
  {
   "cell_type": "code",
   "execution_count": 39,
   "metadata": {},
   "outputs": [
    {
     "data": {
      "text/plain": [
       "{'Tim': 29, 'Jim': 31, 'Pam': 27, 'Sam': 35}"
      ]
     },
     "execution_count": 39,
     "metadata": {},
     "output_type": "execute_result"
    }
   ],
   "source": [
    "age = {\"Tim\": 29, \"Jim\": 31,\"Pam\": 27, \"Sam\":35}\n",
    "age # In this dictionary, the keys are names of people and the values are the ages of these people."
   ]
  },
  {
   "cell_type": "code",
   "execution_count": 40,
   "metadata": {},
   "outputs": [
    {
     "data": {
      "text/plain": [
       "dict_keys(['Tim', 'Jim', 'Pam', 'Sam'])"
      ]
     },
     "execution_count": 40,
     "metadata": {},
     "output_type": "execute_result"
    }
   ],
   "source": [
    "age.keys() # I get a dictionary view object which gives me a dynamic view of all of the keys in my dictionary."
   ]
  },
  {
   "cell_type": "code",
   "execution_count": 41,
   "metadata": {},
   "outputs": [
    {
     "name": "stdout",
     "output_type": "stream",
     "text": [
      "Tim 29\n",
      "Jim 31\n",
      "Pam 27\n",
      "Sam 35\n"
     ]
    }
   ],
   "source": [
    "# Since dictionaries are accessed by their keys it makes sense to use a loop variable that\n",
    "# somehow conveys what the keys of the dictionary actually stand for.\n",
    "\n",
    "for name in age.keys():\n",
    "    print(name, age[name])\n",
    "    \n",
    "# Python is first printing out the name of the person and then the value object, the age of the person following the key."
   ]
  },
  {
   "cell_type": "code",
   "execution_count": null,
   "metadata": {},
   "outputs": [],
   "source": [
    "# Because looping over a dictionary is such a common operation there is actually a shorthand way of doing it.\n",
    "\n",
    "for name in age: # no need to type .keys()\n",
    "    print(name, age[name])"
   ]
  },
  {
   "cell_type": "code",
   "execution_count": null,
   "metadata": {},
   "outputs": [],
   "source": [
    "# Remember that in a Python dictionary a given key always goes with the associated object.\n",
    "# However, remember that the key value pairs themselves don't follow any particular ordering inside the dictionary.\n",
    "# In some applications we would like to loop over the dictionary keys in some order. Perhaps in an alphabetical order.\n",
    "\n",
    "# If I would like to sort the keys, I'd first extract the keys by saying age.keys, and then \n",
    "# I used a built-in function sorted to create a new list in which dictionary keys have been alphabetically sorted.\n",
    "\n",
    "\n",
    "for name in sorted(age.keys()): # now they will be in alphabetical order\n",
    "    print(name, age[name])\n",
    "    \n"
   ]
  },
  {
   "cell_type": "code",
   "execution_count": 43,
   "metadata": {},
   "outputs": [
    {
     "name": "stdout",
     "output_type": "stream",
     "text": [
      "Tim 29\n",
      "Sam 35\n",
      "Pam 27\n",
      "Jim 31\n"
     ]
    }
   ],
   "source": [
    "# Occasionally you may want to loop over your dictionary keys in reverse order.\n",
    "\n",
    "for name in sorted(age.keys(), reverse = True): # now they will be in alphabetical order\n",
    "    print(name, age[name])"
   ]
  },
  {
   "cell_type": "markdown",
   "metadata": {},
   "source": [
    "The  while loop is used for repeated execution of code as long as a given expression is true.\n",
    "The While Loop repeatedly tests the expression.\n",
    "If the expression is true, it executes the first block of code.\n",
    "If the expression is false, it executes the second block of code if present, and then terminates the loop.\n",
    "\n",
    "For a While Loop you're testing some condition some number of times.\n",
    "When you enter that loop you don't know how many times exactlyyou'll be running through that loop.\n",
    "\n",
    "This is in contrast with For Loops where when beginning the loop,\n",
    "you know exactly how many times you would like to run through the block of code."
   ]
  },
  {
   "cell_type": "code",
   "execution_count": null,
   "metadata": {},
   "outputs": [],
   "source": [
    "Consider bears = {\"Grizzly\":\"angry\", \"Brown\":\"friendly\", \"Polar\":\"friendly\"}. \n",
    "Can you replace #blank# so the code will print a greeting only to friendly bears? \n",
    "Your code should work even if more bears are added to the dictionary.\n",
    "\n",
    "for bear in bears:\n",
    "    if #blank#:\n",
    "    print(\"Hello, \"+bear+\" bear!\")\n",
    "else:\n",
    "print(\"odd\")"
   ]
  },
  {
   "cell_type": "code",
   "execution_count": 63,
   "metadata": {},
   "outputs": [
    {
     "name": "stdout",
     "output_type": "stream",
     "text": [
      "Hello,Brown bear!\n",
      "Hello,Polar bear!\n",
      "odd\n"
     ]
    }
   ],
   "source": [
    "bears = {\"Grizzly\":\"angry\", \"Brown\":\"friendly\", \"Polar\":\"friendly\"}\n",
    "\n",
    "for bear in bears:\n",
    "    if bears[bear] == \"friendly\":\n",
    "        print(\"Hello,\"+bear+\" bear!\")\n",
    "else:\n",
    "    print('odd')"
   ]
  },
  {
   "cell_type": "code",
   "execution_count": null,
   "metadata": {},
   "outputs": [],
   "source": [
    "Consider the following code:\n",
    "    \n",
    "is_prime = True\n",
    "for i in range(2,n):\n",
    "    if n%i == 0:\n",
    "        #blank#\n",
    "print(is_prime)\n",
    "\n",
    "Can you fill in the #blank# line so the code will only print True if n is prime?"
   ]
  },
  {
   "cell_type": "code",
   "execution_count": 71,
   "metadata": {},
   "outputs": [
    {
     "name": "stdout",
     "output_type": "stream",
     "text": [
      "false\n",
      "false\n",
      "True\n"
     ]
    }
   ],
   "source": [
    "# My attempt\n",
    "is_prime = True\n",
    "for i in range(2,x):\n",
    "    if x%i == 0:\n",
    "        print(\"false\")\n",
    "else:\n",
    "    print(is_prime)"
   ]
  },
  {
   "cell_type": "code",
   "execution_count": 74,
   "metadata": {},
   "outputs": [
    {
     "name": "stdout",
     "output_type": "stream",
     "text": [
      "False\n"
     ]
    }
   ],
   "source": [
    "is_prime = True\n",
    "for i in range(2,x):\n",
    "    if x%i == 0:\n",
    "        is_prime = False \n",
    "print(is_prime)\n",
    "x = 10\n",
    "\n",
    "# is_prime = False will ensure that if n is divisible by any of the previous values, is_prime will return False.\n",
    "# A more compact way to accomplish the same task is not any([n%i==0 for i in range(2,n)]).\n"
   ]
  },
  {
   "cell_type": "code",
   "execution_count": 75,
   "metadata": {},
   "outputs": [
    {
     "name": "stdout",
     "output_type": "stream",
     "text": [
      "7\n"
     ]
    }
   ],
   "source": [
    "# Consider the following code: What will this print?\n",
    "\n",
    "\n",
    "n=100\n",
    "number_of_times = 0\n",
    "while n >= 1:\n",
    "    n //= 2 # divide the left by the right, and only keep the whole number component\n",
    "    number_of_times += 1\n",
    "print(number_of_times)\n",
    "\n",
    "\n",
    "# This code will repeatedly divide a a number, beginning with 100, by 2 (rounding down to remain an integer). \n",
    "# This process will stop once this process produces 1 or less. 7 is the number of steps required for this to occur."
   ]
  },
  {
   "cell_type": "code",
   "execution_count": 79,
   "metadata": {},
   "outputs": [],
   "source": [
    "x = 99\n",
    "x //=2"
   ]
  },
  {
   "cell_type": "code",
   "execution_count": 80,
   "metadata": {},
   "outputs": [
    {
     "data": {
      "text/plain": [
       "49"
      ]
     },
     "execution_count": 80,
     "metadata": {},
     "output_type": "execute_result"
    }
   ],
   "source": [
    "x"
   ]
  },
  {
   "cell_type": "markdown",
   "metadata": {},
   "source": [
    "# 1.3.5: List Comprehensions"
   ]
  },
  {
   "cell_type": "markdown",
   "metadata": {},
   "source": [
    "A common operation in Python is to take an existing list, \n",
    "apply some operation to all of the items on the list, and then create a new list that contains the results.\n",
    "\n",
    "In Python, there is an operator for this task known as a \"list comprehension\"."
   ]
  },
  {
   "cell_type": "code",
   "execution_count": 85,
   "metadata": {},
   "outputs": [
    {
     "data": {
      "text/plain": [
       "[0, 1, 4, 9, 16, 25, 36, 49, 64, 81]"
      ]
     },
     "execution_count": 85,
     "metadata": {},
     "output_type": "execute_result"
    }
   ],
   "source": [
    "# Consider the following approach to computing squares of a list of numbers.\n",
    "\n",
    "numbers = range(10) # all this prints is a 9. \n",
    "\n",
    "squares = [] # I create an empty list named squares\n",
    "\n",
    "# I can then construct a For Loop where I go over each of my numbers, and square that number, \n",
    "# and then append the result to my squares list\n",
    "\n",
    "for number in numbers: # for all the numbers through 9\n",
    "    square = number**2\n",
    "    squares.append(square)\n",
    "\n",
    "squares"
   ]
  },
  {
   "cell_type": "code",
   "execution_count": 86,
   "metadata": {},
   "outputs": [
    {
     "data": {
      "text/plain": [
       "[0, 1, 4, 9, 16, 25, 36, 49, 64, 81]"
      ]
     },
     "execution_count": 86,
     "metadata": {},
     "output_type": "execute_result"
    }
   ],
   "source": [
    "# Let's then construct the same list using list comprehensions. \n",
    "\n",
    "squares2 = [number**2 for number in numbers]\n",
    "squares2\n",
    "\n",
    "# There are two primary reasons.\n",
    "# One is list comprehensions are very fast.\n",
    "# The second reason is list comprehensions are very elegant.\n",
    "# You can accomplish a lot in just one line.\n"
   ]
  },
  {
   "cell_type": "code",
   "execution_count": 87,
   "metadata": {},
   "outputs": [
    {
     "data": {
      "text/plain": [
       "5"
      ]
     },
     "execution_count": 87,
     "metadata": {},
     "output_type": "execute_result"
    }
   ],
   "source": [
    "sum([i**2 for i in range(3)])\n"
   ]
  },
  {
   "cell_type": "code",
   "execution_count": 93,
   "metadata": {},
   "outputs": [
    {
     "data": {
      "text/plain": [
       "[1, 3, 5, 7, 9]"
      ]
     },
     "execution_count": 93,
     "metadata": {},
     "output_type": "execute_result"
    }
   ],
   "source": [
    "numbers = list(range(1,10,2))\n",
    "numbers"
   ]
  },
  {
   "cell_type": "code",
   "execution_count": 114,
   "metadata": {},
   "outputs": [
    {
     "data": {
      "text/plain": [
       "25"
      ]
     },
     "execution_count": 114,
     "metadata": {},
     "output_type": "execute_result"
    }
   ],
   "source": [
    "# How can you use a list comprehension, including if and for, to sum the odd numbers from 0 through 9?\n",
    "\n",
    "sum(x for x in range(1,10) if x % 2)\n"
   ]
  },
  {
   "cell_type": "code",
   "execution_count": 113,
   "metadata": {},
   "outputs": [
    {
     "data": {
      "text/plain": [
       "25"
      ]
     },
     "execution_count": 113,
     "metadata": {},
     "output_type": "execute_result"
    }
   ],
   "source": [
    "sum(x for x in range(1,10) if x % 2)\n"
   ]
  },
  {
   "cell_type": "markdown",
   "metadata": {},
   "source": [
    "# 1.3.6: Reading and Writing Files"
   ]
  },
  {
   "cell_type": "code",
   "execution_count": 120,
   "metadata": {},
   "outputs": [],
   "source": [
    "# Create a text file in python\n",
    "\n",
    "file = open(\"input.txt\",\"w+\")\n",
    "\n",
    "# We declared the variable “f” to open a file named guru99.txt. Open takes 2 arguments, the file that we want \n",
    "# to open and a string that represents the kinds of permission or operation we want to do on the file\n",
    "# Here, we used “w” letter in our argument, which indicates Python write to file and it will create file in Python \n",
    "# if it does not exist in library.\n",
    "# Plus sign indicates both read and write for Python create file operation.\n",
    "\n",
    "\n",
    "# Enter data into the file \n",
    "for i in range(3):\n",
    "     file.write(\"This is line %d\\r\\n\" % (i+1)) # i + 1, results in starting at 1 and ending at 3 \n",
    "        \n",
    "# We have a for loop that runs over a range of 3 numbers.\n",
    "# Using the write function to enter data into the file.\n",
    "# The output we want to iterate in the file is “this is line number”, which we declare with Python write \n",
    "# file function and then percent d (displays integer).\n",
    "# So basically we are putting in the line number that we are writing, then putting it in a carriage return and a\n",
    "# new line character\n",
    "\n",
    "file.close()"
   ]
  },
  {
   "cell_type": "code",
   "execution_count": 121,
   "metadata": {},
   "outputs": [],
   "source": [
    "filename = \"input.txt\""
   ]
  },
  {
   "cell_type": "code",
   "execution_count": 122,
   "metadata": {},
   "outputs": [
    {
     "name": "stdout",
     "output_type": "stream",
     "text": [
      "This is line 1\n",
      "\n",
      "\n",
      "\n",
      "This is line 2\n",
      "\n",
      "\n",
      "\n",
      "This is line 3\n",
      "\n",
      "\n",
      "\n"
     ]
    }
   ],
   "source": [
    "# We can use for loops to read a file in Python.\n",
    "\n",
    "for line in open(filename):\n",
    "    print(line) # python will print out the contents of the file\n",
    "    \n",
    "# open(filename) generates a file object. I can loop over file objects using the for statement.\n",
    "# In this code, line will always contain one of the lines of the input file."
   ]
  },
  {
   "cell_type": "code",
   "execution_count": 123,
   "metadata": {},
   "outputs": [
    {
     "name": "stdout",
     "output_type": "stream",
     "text": [
      "This is line 1\n",
      "\n",
      "This is line 2\n",
      "\n",
      "This is line 3\n",
      "\n"
     ]
    }
   ],
   "source": [
    "# Let's try using the rstrip() method for strings. To get rid of the extra line breaks\n",
    "\n",
    "for line in open(filename):\n",
    "    line  = line.rstrip() # 2 \n",
    "    print(line)\n",
    "    \n",
    "# 2 - # Remember, strings are immutable. If I want to keep the result, I have to assign it either to a new variable \n",
    "# or reassinging to the existing variable. In this case we reassigned "
   ]
  },
  {
   "cell_type": "code",
   "execution_count": 126,
   "metadata": {},
   "outputs": [
    {
     "name": "stdout",
     "output_type": "stream",
     "text": [
      "['This', 'is', 'line', '1']\n",
      "['']\n",
      "['This', 'is', 'line', '2']\n",
      "['']\n",
      "['This', 'is', 'line', '3']\n",
      "['']\n"
     ]
    }
   ],
   "source": [
    "# If we look at the code, line.rstrip() returns a string.\n",
    "# This means that I can just chain a new string function at the end of the line. like .split()\n",
    "\n",
    "for line in open(filename):\n",
    "    line  = line.rstrip().split(\" \")\n",
    "    print(line)\n",
    "\n",
    "# Inside the split, as an argument, I have to provide the character that I want to use for splitting the line,  the whitespace.\n",
    "# A key thing to realize about this is that the string split method returns not a string but a list."
   ]
  },
  {
   "cell_type": "code",
   "execution_count": null,
   "metadata": {},
   "outputs": [],
   "source": [
    "# Let's then take a look at how to write a text file line by line.\n",
    "\n",
    "F = open(\"output.txt\", \"w\") # 1st argument is the name of the file, 2nd is w which creates a file for writting not reading. \n",
    "\n",
    "# We write inside the F file\n",
    "\n",
    "F.write(\"Python\\n\") \n",
    "\n",
    "# We provide the input as a string, in this case \"Python.\"\n",
    "# However, we have to add an extra character, which is the line break character that we extracted\n",
    "\n",
    "# Finally we close the file,"
   ]
  },
  {
   "cell_type": "code",
   "execution_count": 127,
   "metadata": {},
   "outputs": [
    {
     "name": "stdout",
     "output_type": "stream",
     "text": [
      "['Hello', 'World']\n"
     ]
    }
   ],
   "source": [
    "F = open(\"input.txt\", \"w\")\n",
    "F.write(\"Hello\\nWorld\")\n",
    "F.close()\n",
    "lines = []\n",
    "for line in open(\"input.txt\"):\n",
    "    lines.append(line.strip())\n",
    "print(lines)"
   ]
  },
  {
   "cell_type": "markdown",
   "metadata": {},
   "source": [
    "# 1.3.7: Introduction to Functions\n"
   ]
  },
  {
   "cell_type": "markdown",
   "metadata": {},
   "source": [
    "Functions are devices for grouping statements so that they can be easily run more than once in a program.\n",
    "\n",
    "Functions maximize code reuse and minimize code redundancy.\n",
    "\n",
    "Functions enable dividing larger tasks into smaller chunks, an approach that is called procedural decomposition.\n",
    "\n",
    "Functions are written using the def statement.\n",
    "\n",
    "You can send the result object back to the caller using the return statement."
   ]
  },
  {
   "cell_type": "code",
   "execution_count": 128,
   "metadata": {},
   "outputs": [],
   "source": [
    "# Let's define an add function\n",
    "\n",
    "def add(a, b): # Our add function is going to take two input arguments, which are a and b.\n",
    "    mysum = a + b # We can calculate a sum by saying-- let's call it mysum. Let's define that as a plus b.\n",
    "    return mysum # finally, we use the return statement to return mysum to the caller of the function.\n"
   ]
  },
  {
   "cell_type": "code",
   "execution_count": 130,
   "metadata": {},
   "outputs": [
    {
     "data": {
      "text/plain": [
       "28"
      ]
     },
     "execution_count": 130,
     "metadata": {},
     "output_type": "execute_result"
    }
   ],
   "source": [
    "# To use my function:\n",
    "\n",
    "add(15, 13)\n",
    "\n",
    "# As a general rule, all names created or assigned in a function are local of that function \n",
    "# and they exist only while the function runs.\n",
    "\n",
    "# To modify the value of a global variable from inside a function,\n",
    "# you can use the global statement.\n",
    "\n",
    "# Arguments to Python functions are matched by position.\n",
    "# 15 matches with a and 13 with b"
   ]
  },
  {
   "cell_type": "code",
   "execution_count": 131,
   "metadata": {},
   "outputs": [],
   "source": [
    "# You can use tuples to return multiple values from a function.\n",
    "\n",
    "def add_and_sub(a, b):\n",
    "    mysum = a + b\n",
    "    mydiff = a -b \n",
    "    return (mysum, mydiff) # I will then return mysum and mydiff by using a tuple"
   ]
  },
  {
   "cell_type": "code",
   "execution_count": 132,
   "metadata": {},
   "outputs": [
    {
     "data": {
      "text/plain": [
       "(35, 5)"
      ]
     },
     "execution_count": 132,
     "metadata": {},
     "output_type": "execute_result"
    }
   ],
   "source": [
    "add_and_sub(20, 15)"
   ]
  },
  {
   "cell_type": "code",
   "execution_count": 133,
   "metadata": {},
   "outputs": [
    {
     "data": {
      "text/plain": [
       "<function __main__.add(a, b)>"
      ]
     },
     "execution_count": 133,
     "metadata": {},
     "output_type": "execute_result"
    }
   ],
   "source": [
    "add"
   ]
  },
  {
   "cell_type": "code",
   "execution_count": 135,
   "metadata": {},
   "outputs": [
    {
     "data": {
      "text/plain": [
       "<function __main__.add(a, b)>"
      ]
     },
     "execution_count": 135,
     "metadata": {},
     "output_type": "execute_result"
    }
   ],
   "source": [
    "# The def statement creates an object and assigns it to a name. \n",
    "# This means that we can later in the code reassign the function object to another name.\n",
    "\n",
    "newadd = add\n",
    "newadd\n",
    "\n",
    "# I now have two different names for calling the function. I can either use add or I can use newadd."
   ]
  },
  {
   "cell_type": "code",
   "execution_count": 136,
   "metadata": {},
   "outputs": [
    {
     "data": {
      "text/plain": [
       "5"
      ]
     },
     "execution_count": 136,
     "metadata": {},
     "output_type": "execute_result"
    }
   ],
   "source": [
    "add(2,3)"
   ]
  },
  {
   "cell_type": "code",
   "execution_count": 137,
   "metadata": {},
   "outputs": [
    {
     "data": {
      "text/plain": [
       "5"
      ]
     },
     "execution_count": 137,
     "metadata": {},
     "output_type": "execute_result"
    }
   ],
   "source": [
    "newadd(2,3)"
   ]
  },
  {
   "cell_type": "code",
   "execution_count": 138,
   "metadata": {},
   "outputs": [],
   "source": [
    "# Arguments are passed by assigning objects to local names. Let's see how this works for a mutable object.\n",
    "\n",
    "def modify(mylist):\n",
    "    mylist[0] *= 10 # Mylist function will look at the first element of the list at location 0 and it will * its value by 10."
   ]
  },
  {
   "cell_type": "code",
   "execution_count": 139,
   "metadata": {},
   "outputs": [],
   "source": [
    "L = [1,3,5,7,9]\n",
    "\n",
    "modify(L)"
   ]
  },
  {
   "cell_type": "code",
   "execution_count": 140,
   "metadata": {},
   "outputs": [
    {
     "data": {
      "text/plain": [
       "[10, 3, 5, 7, 9]"
      ]
     },
     "execution_count": 140,
     "metadata": {},
     "output_type": "execute_result"
    }
   ],
   "source": [
    "L"
   ]
  },
  {
   "cell_type": "code",
   "execution_count": 141,
   "metadata": {},
   "outputs": [
    {
     "data": {
      "text/plain": [
       "True"
      ]
     },
     "execution_count": 141,
     "metadata": {},
     "output_type": "execute_result"
    }
   ],
   "source": [
    "def modify(mylist):\n",
    "    mylist[0] *= 10\n",
    "    return(mylist)\n",
    "L = [1, 3, 5, 7, 9]\n",
    "M = modify(L)\n",
    "M is L\n",
    "\n",
    "# The statement is true! Note that because L is mutable, modify alters mylist directly."
   ]
  },
  {
   "cell_type": "markdown",
   "metadata": {},
   "source": [
    "# 1.3.8: Writing Simple Functions"
   ]
  },
  {
   "cell_type": "code",
   "execution_count": 144,
   "metadata": {},
   "outputs": [],
   "source": [
    "# I need to loop over all of the members of my sequence s1.  For any single member in that sequence, I need to ask,\n",
    "# is this object also a member of the sequence s2? If the answer is true, then we would like to retain that list in our result.\n",
    "\n",
    "def intersect(s1, s2): # There are two sequences that I'm going to call s1 and s2\n",
    "    res = [] # res as an empty list\n",
    "    for x in s1: # looping over all of the objects in my list s1\n",
    "        if x in s2: # We can ask, if x is in s2 -- to know that element x is both in s1 and s2.\n",
    "            res.append(x) # if true, we should capture this by appending that result to our res list\n",
    "    return res   \n"
   ]
  },
  {
   "cell_type": "code",
   "execution_count": 145,
   "metadata": {},
   "outputs": [
    {
     "data": {
      "text/plain": [
       "[3, 4, 5]"
      ]
     },
     "execution_count": 145,
     "metadata": {},
     "output_type": "execute_result"
    }
   ],
   "source": [
    "# Let's call this function. Let's ask, what is the intersection of two lists? \n",
    "\n",
    "intersect([1,2,3,4,5], [3,4,5,6,7])"
   ]
  },
  {
   "cell_type": "code",
   "execution_count": 150,
   "metadata": {},
   "outputs": [
    {
     "data": {
      "text/plain": [
       "'ab'"
      ]
     },
     "execution_count": 150,
     "metadata": {},
     "output_type": "execute_result"
    }
   ],
   "source": [
    "# Let's then try out a second example. Let's try to generate a simple program that generates passwords.\n",
    "\n",
    "# It seems that in this case, we would like to be able to choose characters from a sequence of characters.\n",
    "# This suggests to me that the module random might be handy.\n",
    "\n",
    "import random\n",
    " \n",
    "# Remember how random has a method choice which enables me to choose one object at random from the sequence \n",
    "# that you provide as the argument.\n",
    "    \n",
    "random.choice([1,2,3,4])    \n",
    "\n",
    "# Another thing that we can do is we can actually provide a string,\n",
    "# let's say \"abcdef\" -- and we can ask Python to return one of these characters at a time.\n",
    "\n",
    "random.choice(\"abcdef\")\n",
    "\n",
    "\n",
    "\"a\" + \"b\" # we can concatenate these two strings by putting in a plus sign in between them.\n",
    "\n",
    "\n",
    "# This is going to be the basis for building our function.    "
   ]
  },
  {
   "cell_type": "code",
   "execution_count": 151,
   "metadata": {},
   "outputs": [],
   "source": [
    "def password(length): # The argument is going to be the length of the password.\n",
    "    pw = str() # I create an empty string \n",
    "    characters = \"abcdefghijklmnopqrstuvwxyz\" # The next step is going to be defining the set of characters\n",
    "    for i in range(length): #4\n",
    "        pw = pw + random.choice(characters) #5\n",
    "    return pw \n",
    "        \n",
    "    \n",
    "# 4 - So I would like to be able to sample characters at random one at a time, and then construct my password \n",
    "# one letter at a time.We type for i in range length creates a range object thatconsists of length number of members\n",
    "\n",
    "#5 # I could take my existing password, pw, and define my new password as the current password\n",
    "# with one extra random character added to the end.\n",
    "\n",
    "# We've created an empty password. We've established a set of characters that we want to use as the basis for our password.\n",
    "# We're then looping over a line of code exactly length number of times. Each time we're choosing one character uniformly\n",
    "# at random from our list called characters. In addition to picking that character, we append or concatenate the newly \n",
    "# chosen character to our existing password. Once the for loop concludes, we have our password."
   ]
  },
  {
   "cell_type": "code",
   "execution_count": 153,
   "metadata": {},
   "outputs": [
    {
     "data": {
      "text/plain": [
       "'edeaeaeebcbaed'"
      ]
     },
     "execution_count": 153,
     "metadata": {},
     "output_type": "execute_result"
    }
   ],
   "source": [
    "password(14)"
   ]
  },
  {
   "cell_type": "code",
   "execution_count": 155,
   "metadata": {},
   "outputs": [
    {
     "data": {
      "text/plain": [
       "'8w9wy5md'"
      ]
     },
     "execution_count": 155,
     "metadata": {},
     "output_type": "execute_result"
    }
   ],
   "source": [
    "def password(length):\n",
    "    pw = str() \n",
    "    characters = \"abcdefghijklmnopqrstuvwxyz0123456789\" # I  can add numbers too \n",
    "    for i in range(length): \n",
    "        pw = pw + random.choice(characters) \n",
    "    return pw \n",
    "\n",
    "password(8)"
   ]
  },
  {
   "cell_type": "code",
   "execution_count": null,
   "metadata": {},
   "outputs": [],
   "source": [
    "# Consider the following code:\n",
    "\n",
    "def is_vowel(letter):\n",
    "    if #blank#:\n",
    "        return(True)\n",
    "    else:\n",
    "        return(False)\n",
    "    \n",
    "# Can you replace #blank# in the second line so is_vowel becomes a function that takes a letter as input \n",
    "# and prints whether a letter is a vowel (in \"aeiouy\")?"
   ]
  },
  {
   "cell_type": "code",
   "execution_count": 175,
   "metadata": {},
   "outputs": [],
   "source": [
    "def is_vowel(letter):\n",
    "    if letter in \"aeiouy\":\n",
    "        return(True)\n",
    "    else:\n",
    "        return(False)\n",
    "\n",
    "is_vowel(\"a\")"
   ]
  },
  {
   "cell_type": "code",
   "execution_count": 179,
   "metadata": {},
   "outputs": [
    {
     "ename": "TypeError",
     "evalue": "'in <string>' requires string as left operand, not int",
     "output_type": "error",
     "traceback": [
      "\u001b[1;31m---------------------------------------------------------------------------\u001b[0m",
      "\u001b[1;31mTypeError\u001b[0m                                 Traceback (most recent call last)",
      "\u001b[1;32m<ipython-input-179-0509f8554a75>\u001b[0m in \u001b[0;36m<module>\u001b[1;34m\u001b[0m\n\u001b[1;32m----> 1\u001b[1;33m \u001b[0mis_vowel\u001b[0m\u001b[1;33m(\u001b[0m\u001b[1;36m4\u001b[0m\u001b[1;33m)\u001b[0m\u001b[1;33m\u001b[0m\u001b[1;33m\u001b[0m\u001b[0m\n\u001b[0m",
      "\u001b[1;32m<ipython-input-175-317e981e681f>\u001b[0m in \u001b[0;36mis_vowel\u001b[1;34m(letter)\u001b[0m\n\u001b[0;32m      1\u001b[0m \u001b[1;32mdef\u001b[0m \u001b[0mis_vowel\u001b[0m\u001b[1;33m(\u001b[0m\u001b[0mletter\u001b[0m\u001b[1;33m)\u001b[0m\u001b[1;33m:\u001b[0m\u001b[1;33m\u001b[0m\u001b[1;33m\u001b[0m\u001b[0m\n\u001b[1;32m----> 2\u001b[1;33m     \u001b[1;32mif\u001b[0m \u001b[0mletter\u001b[0m \u001b[1;32min\u001b[0m  \u001b[1;34m\"aeiouy\"\u001b[0m\u001b[1;33m:\u001b[0m\u001b[1;33m\u001b[0m\u001b[1;33m\u001b[0m\u001b[0m\n\u001b[0m\u001b[0;32m      3\u001b[0m         \u001b[1;32mreturn\u001b[0m\u001b[1;33m(\u001b[0m\u001b[1;32mTrue\u001b[0m\u001b[1;33m)\u001b[0m\u001b[1;33m\u001b[0m\u001b[1;33m\u001b[0m\u001b[0m\n\u001b[0;32m      4\u001b[0m     \u001b[1;32melse\u001b[0m\u001b[1;33m:\u001b[0m\u001b[1;33m\u001b[0m\u001b[1;33m\u001b[0m\u001b[0m\n\u001b[0;32m      5\u001b[0m         \u001b[1;32mreturn\u001b[0m\u001b[1;33m(\u001b[0m\u001b[1;32mFalse\u001b[0m\u001b[1;33m)\u001b[0m\u001b[1;33m\u001b[0m\u001b[1;33m\u001b[0m\u001b[0m\n",
      "\u001b[1;31mTypeError\u001b[0m: 'in <string>' requires string as left operand, not int"
     ]
    }
   ],
   "source": [
    "is_vowel(4)"
   ]
  },
  {
   "cell_type": "code",
   "execution_count": 180,
   "metadata": {},
   "outputs": [
    {
     "data": {
      "text/plain": [
       "False"
      ]
     },
     "execution_count": 180,
     "metadata": {},
     "output_type": "execute_result"
    }
   ],
   "source": [
    "# Consider the following proposed emendation of is_vowel:\n",
    "\n",
    "def is_vowel(letter):\n",
    "    if type(letter) == int:\n",
    "        letter = str(letter)\n",
    "    if letter in \"aeiouy\":\n",
    "        return(True)\n",
    "    else:\n",
    "        return(False)\n",
    "is_vowel(4)"
   ]
  },
  {
   "cell_type": "code",
   "execution_count": 191,
   "metadata": {},
   "outputs": [],
   "source": [
    "# Let's create a factorial function. Consider the following code:\n",
    "\n",
    "def factorial(n):\n",
    "    if n == 0:\n",
    "        return 1\n",
    "    else:\n",
    "    \tN = 1\n",
    "        for i in range(1, n+1):\n",
    "            #blank#\n",
    "        return(N)\n",
    "\n",
    "# Can you fill in the #blank# to complete the function as described above?"
   ]
  },
  {
   "cell_type": "code",
   "execution_count": 195,
   "metadata": {},
   "outputs": [],
   "source": [
    "def factorial(n):\n",
    "    if n == 0:\n",
    "        return 1\n",
    "    else:\n",
    "        N = 1\n",
    "        for i in range(1, n+1):\n",
    "            N*=i # x *= 5 equals to x = x * 5, here it would N = N*1\n",
    "        return(N)"
   ]
  },
  {
   "cell_type": "code",
   "execution_count": 196,
   "metadata": {},
   "outputs": [
    {
     "data": {
      "text/plain": [
       "2"
      ]
     },
     "execution_count": 196,
     "metadata": {},
     "output_type": "execute_result"
    }
   ],
   "source": [
    "factorial(2)"
   ]
  },
  {
   "cell_type": "markdown",
   "metadata": {},
   "source": [
    "# 1.3.9: Common Mistakes and Errors"
   ]
  },
  {
   "cell_type": "code",
   "execution_count": 197,
   "metadata": {},
   "outputs": [
    {
     "data": {
      "text/plain": [
       "list"
      ]
     },
     "execution_count": 197,
     "metadata": {},
     "output_type": "execute_result"
    }
   ],
   "source": [
    "# ******** One of the most common mistakes is not reading or understanding error messages.\n",
    "\n",
    "type(L)"
   ]
  },
  {
   "cell_type": "code",
   "execution_count": 204,
   "metadata": {
    "scrolled": true
   },
   "outputs": [
    {
     "ename": "IndexError",
     "evalue": "list index out of range",
     "output_type": "error",
     "traceback": [
      "\u001b[1;31m---------------------------------------------------------------------------\u001b[0m",
      "\u001b[1;31mIndexError\u001b[0m                                Traceback (most recent call last)",
      "\u001b[1;32m<ipython-input-204-7e3156de2621>\u001b[0m in \u001b[0;36m<module>\u001b[1;34m\u001b[0m\n\u001b[0;32m      1\u001b[0m \u001b[1;31m# Remember Lists are indexed by object positions. If type:\u001b[0m\u001b[1;33m\u001b[0m\u001b[1;33m\u001b[0m\u001b[1;33m\u001b[0m\u001b[0m\n\u001b[0;32m      2\u001b[0m \u001b[1;33m\u001b[0m\u001b[0m\n\u001b[1;32m----> 3\u001b[1;33m \u001b[0mL\u001b[0m\u001b[1;33m[\u001b[0m\u001b[1;36m5\u001b[0m\u001b[1;33m]\u001b[0m\u001b[1;33m\u001b[0m\u001b[1;33m\u001b[0m\u001b[0m\n\u001b[0m",
      "\u001b[1;31mIndexError\u001b[0m: list index out of range"
     ]
    }
   ],
   "source": [
    "# Remember Lists are indexed by object positions. If I type:\n",
    "\n",
    "L[5]"
   ]
  },
  {
   "cell_type": "code",
   "execution_count": 202,
   "metadata": {},
   "outputs": [
    {
     "data": {
      "text/plain": [
       "5"
      ]
     },
     "execution_count": 202,
     "metadata": {},
     "output_type": "execute_result"
    }
   ],
   "source": [
    "len(L) # In this case, the list contains 5 objects, 0,1,2,3,4. Hence when we input 5, we get an error.\"list index out of range\""
   ]
  },
  {
   "cell_type": "code",
   "execution_count": 207,
   "metadata": {},
   "outputs": [
    {
     "data": {
      "text/plain": [
       "9"
      ]
     },
     "execution_count": 207,
     "metadata": {},
     "output_type": "execute_result"
    }
   ],
   "source": [
    "# If type anything less than 5, it will work\n",
    "\n",
    "L[4]\n",
    "\n",
    "# Whenever you're accessing objects in a sequence, make sure you know how long that sequence is."
   ]
  },
  {
   "cell_type": "code",
   "execution_count": null,
   "metadata": {},
   "outputs": [],
   "source": [
    "# ************** Another common error is forgetting that dictionaries have no left-right ordering.\n",
    "#Remember in a dictionary, a given key object is always coupled with its value object, but the key value\n",
    "# pairs themselves can appear in any order inside the dictionary."
   ]
  },
  {
   "cell_type": "code",
   "execution_count": 213,
   "metadata": {},
   "outputs": [],
   "source": [
    "# ***************** Another common error is trying to do an operation that is not supported by the object.\n",
    "\n",
    "L = [2,4,6]"
   ]
  },
  {
   "cell_type": "code",
   "execution_count": 214,
   "metadata": {},
   "outputs": [
    {
     "ename": "AttributeError",
     "evalue": "'list' object has no attribute 'add'",
     "output_type": "error",
     "traceback": [
      "\u001b[1;31m---------------------------------------------------------------------------\u001b[0m",
      "\u001b[1;31mAttributeError\u001b[0m                            Traceback (most recent call last)",
      "\u001b[1;32m<ipython-input-214-ea370f86e7db>\u001b[0m in \u001b[0;36m<module>\u001b[1;34m\u001b[0m\n\u001b[0;32m      1\u001b[0m \u001b[1;31m# Imagine I type:\u001b[0m\u001b[1;33m\u001b[0m\u001b[1;33m\u001b[0m\u001b[1;33m\u001b[0m\u001b[0m\n\u001b[0;32m      2\u001b[0m \u001b[1;33m\u001b[0m\u001b[0m\n\u001b[1;32m----> 3\u001b[1;33m \u001b[0mL\u001b[0m\u001b[1;33m.\u001b[0m\u001b[0madd\u001b[0m\u001b[1;33m(\u001b[0m\u001b[1;36m8\u001b[0m\u001b[1;33m)\u001b[0m\u001b[1;33m\u001b[0m\u001b[1;33m\u001b[0m\u001b[0m\n\u001b[0m",
      "\u001b[1;31mAttributeError\u001b[0m: 'list' object has no attribute 'add'"
     ]
    }
   ],
   "source": [
    "# Imagine I type: \n",
    "\n",
    "L.add(8)"
   ]
  },
  {
   "cell_type": "code",
   "execution_count": 215,
   "metadata": {},
   "outputs": [
    {
     "data": {
      "text/plain": [
       "[2, 4, 6, 8]"
      ]
     },
     "execution_count": 215,
     "metadata": {},
     "output_type": "execute_result"
    }
   ],
   "source": [
    "# Python is telling me the list object has no attribute \"add.\"\n",
    "# In other words, a list object doesn't have a method called \"add\".\n",
    "# The right method is \"append.\"\n",
    "\n",
    "L.append(8)\n",
    "L\n",
    "\n",
    "# make sure you know the type of the object you are working with, and you know what are the methods that the object supports."
   ]
  },
  {
   "cell_type": "code",
   "execution_count": 217,
   "metadata": {},
   "outputs": [
    {
     "data": {
      "text/plain": [
       "dict_keys(['1', '2', '3'])"
      ]
     },
     "execution_count": 217,
     "metadata": {},
     "output_type": "execute_result"
    }
   ],
   "source": [
    "# ************ Another common error is trying to access an object in the wrong way.\n",
    "\n",
    "D = {\"1\":\"aa\",\"2\":\"bb\",\"3\":\"aa\"}\n",
    "D.keys() #look at the keys of the dict"
   ]
  },
  {
   "cell_type": "code",
   "execution_count": 218,
   "metadata": {},
   "outputs": [
    {
     "data": {
      "text/plain": [
       "dict_values(['aa', 'bb', 'aa'])"
      ]
     },
     "execution_count": 218,
     "metadata": {},
     "output_type": "execute_result"
    }
   ],
   "source": [
    "D.values() # values in the dictionary"
   ]
  },
  {
   "cell_type": "code",
   "execution_count": 219,
   "metadata": {},
   "outputs": [
    {
     "ename": "KeyError",
     "evalue": "1",
     "output_type": "error",
     "traceback": [
      "\u001b[1;31m---------------------------------------------------------------------------\u001b[0m",
      "\u001b[1;31mKeyError\u001b[0m                                  Traceback (most recent call last)",
      "\u001b[1;32m<ipython-input-219-64f08845f4dd>\u001b[0m in \u001b[0;36m<module>\u001b[1;34m\u001b[0m\n\u001b[1;32m----> 1\u001b[1;33m \u001b[0mD\u001b[0m\u001b[1;33m[\u001b[0m\u001b[1;36m1\u001b[0m\u001b[1;33m]\u001b[0m\u001b[1;33m\u001b[0m\u001b[1;33m\u001b[0m\u001b[0m\n\u001b[0m",
      "\u001b[1;31mKeyError\u001b[0m: 1"
     ]
    }
   ],
   "source": [
    "D[1] # lets do a quick look up, why do I get an error?"
   ]
  },
  {
   "cell_type": "code",
   "execution_count": 221,
   "metadata": {},
   "outputs": [
    {
     "data": {
      "text/plain": [
       "'aa'"
      ]
     },
     "execution_count": 221,
     "metadata": {},
     "output_type": "execute_result"
    }
   ],
   "source": [
    "#If you look at the keys closely, you realize that the keys are actually not numbers, but they are strings.\n",
    "\n",
    "D[\"1\"]\n",
    "\n",
    "# Therefore, whenever accessing dictionaries, make sure you know the type of your key objects."
   ]
  },
  {
   "cell_type": "code",
   "execution_count": 222,
   "metadata": {},
   "outputs": [
    {
     "ename": "TypeError",
     "evalue": "'str' object does not support item assignment",
     "output_type": "error",
     "traceback": [
      "\u001b[1;31m---------------------------------------------------------------------------\u001b[0m",
      "\u001b[1;31mTypeError\u001b[0m                                 Traceback (most recent call last)",
      "\u001b[1;32m<ipython-input-222-7570ff3b0d6d>\u001b[0m in \u001b[0;36m<module>\u001b[1;34m\u001b[0m\n\u001b[0;32m      1\u001b[0m \u001b[1;31m# *************** Another common error is trying to modify immutable objects.\u001b[0m\u001b[1;33m\u001b[0m\u001b[1;33m\u001b[0m\u001b[1;33m\u001b[0m\u001b[0m\n\u001b[0;32m      2\u001b[0m \u001b[1;31m# Remember immutable objects cannot be modified after they have been created.\u001b[0m\u001b[1;33m\u001b[0m\u001b[1;33m\u001b[0m\u001b[1;33m\u001b[0m\u001b[0m\n\u001b[1;32m----> 3\u001b[1;33m \u001b[1;34m\"Python\"\u001b[0m\u001b[1;33m[\u001b[0m\u001b[1;36m0\u001b[0m\u001b[1;33m]\u001b[0m \u001b[1;33m=\u001b[0m \u001b[1;34m\"p\"\u001b[0m\u001b[1;33m\u001b[0m\u001b[1;33m\u001b[0m\u001b[0m\n\u001b[0m",
      "\u001b[1;31mTypeError\u001b[0m: 'str' object does not support item assignment"
     ]
    }
   ],
   "source": [
    "# *************** Another common error is trying to modify immutable objects.\n",
    "# Remember immutable objects cannot be modified after they have been created.\n",
    "\n",
    "\"Python\"[0] = \"p\" # I cannot try to modify the content of the zero element\n",
    "\n",
    "# python tell me 'str' object does not support item assignment, given that string are immutable objects\n",
    "# their content cannot be modified"
   ]
  },
  {
   "cell_type": "code",
   "execution_count": 223,
   "metadata": {},
   "outputs": [
    {
     "ename": "TypeError",
     "evalue": "can only concatenate str (not \"int\") to str",
     "output_type": "error",
     "traceback": [
      "\u001b[1;31m---------------------------------------------------------------------------\u001b[0m",
      "\u001b[1;31mTypeError\u001b[0m                                 Traceback (most recent call last)",
      "\u001b[1;32m<ipython-input-223-12d00335c0dc>\u001b[0m in \u001b[0;36m<module>\u001b[1;34m\u001b[0m\n\u001b[0;32m      3\u001b[0m \u001b[1;31m# A very common instance of this error is the following:\u001b[0m\u001b[1;33m\u001b[0m\u001b[1;33m\u001b[0m\u001b[1;33m\u001b[0m\u001b[0m\n\u001b[0;32m      4\u001b[0m \u001b[1;33m\u001b[0m\u001b[0m\n\u001b[1;32m----> 5\u001b[1;33m \u001b[1;34m\"the answer is \"\u001b[0m \u001b[1;33m+\u001b[0m \u001b[1;36m8\u001b[0m\u001b[1;33m\u001b[0m\u001b[1;33m\u001b[0m\u001b[0m\n\u001b[0m",
      "\u001b[1;31mTypeError\u001b[0m: can only concatenate str (not \"int\") to str"
     ]
    }
   ],
   "source": [
    "# ************ Another common error is trying to operate on two objects that are actually of different type.\n",
    "\n",
    "# A very common instance of this error is the following:  concatenating a string and a number.\n",
    "\n",
    "\"the answer is \" + 8"
   ]
  },
  {
   "cell_type": "code",
   "execution_count": 225,
   "metadata": {},
   "outputs": [
    {
     "data": {
      "text/plain": [
       "'the answer is 8'"
      ]
     },
     "execution_count": 225,
     "metadata": {},
     "output_type": "execute_result"
    }
   ],
   "source": [
    "# the fix:\n",
    "\n",
    "\"the answer is \" + str(8)"
   ]
  },
  {
   "cell_type": "code",
   "execution_count": 227,
   "metadata": {},
   "outputs": [
    {
     "data": {
      "text/plain": [
       "0"
      ]
     },
     "execution_count": 227,
     "metadata": {},
     "output_type": "execute_result"
    }
   ],
   "source": [
    "# ************** Another very common error in Python has to do with indentation.\n",
    "\n",
    "def rsum(n):\n",
    "    rsum = 0 # The first number in the range object is going to be 0,\n",
    "    for k in range(n):\n",
    "        rsum += k # we just simply add 0 to our rsum.\n",
    "        return rsum # problem happens here. Instead of completing the for loop, we actually return rsum during the 1st iteration\n",
    "\n",
    "rsum(12) \n",
    "\n",
    "# What went wrong?"
   ]
  },
  {
   "cell_type": "code",
   "execution_count": 228,
   "metadata": {},
   "outputs": [
    {
     "data": {
      "text/plain": [
       "66"
      ]
     },
     "execution_count": 228,
     "metadata": {},
     "output_type": "execute_result"
    }
   ],
   "source": [
    "def rsum(n):\n",
    "    rsum = 0 \n",
    "    for k in range(n):\n",
    "        rsum += k \n",
    "    return rsum # we indent the return function\n",
    "\n",
    "rsum(12) \n"
   ]
  },
  {
   "cell_type": "code",
   "execution_count": null,
   "metadata": {},
   "outputs": [],
   "source": []
  }
 ],
 "metadata": {
  "kernelspec": {
   "display_name": "Python 3",
   "language": "python",
   "name": "python3"
  },
  "language_info": {
   "codemirror_mode": {
    "name": "ipython",
    "version": 3
   },
   "file_extension": ".py",
   "mimetype": "text/x-python",
   "name": "python",
   "nbconvert_exporter": "python",
   "pygments_lexer": "ipython3",
   "version": "3.7.9"
  }
 },
 "nbformat": 4,
 "nbformat_minor": 4
}
