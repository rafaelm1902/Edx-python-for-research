{
 "cells": [
  {
   "cell_type": "markdown",
   "metadata": {},
   "source": [
    "In Week 5, we explore statistical learning through a series of videos and comprehension checks followed by a two-part case study that allows you to practice your coding skills with homeworks. We will use the scikit-learn library, one of the most widely used Python libraries for machine learning.\n",
    "\n",
    "In Week 5, you will:\n",
    "\n",
    "Learn the basics of linear and logistic regression\n",
    "Learn how to use scikit-learn to fit linear and logistic regression models\n",
    "Learn the basics of random forest methods for regression and classification\n",
    "Learn how to use scikit-learn to fit a random forest model\n",
    "Apply the techniques learned to analyze a dataset of movies\n",
    "Week 5 is divided into three parts followed by the case study. Part 1 covers linear regression, Part 2 covers logistic regression, and Part 3 covers random forest methods for regression and classification. Comprehension Checks follow each video. The week concludes with a two-part case study looking at a movie dataset with two Homeworks that will allow you to practice the coding techniques introduced in the videos.\n",
    "\n",
    "The Homeworks and some of the Comprehension Checks will require you to work through code. We encourage you to use Python to interactively test out your answers and further your learning."
   ]
  },
  {
   "cell_type": "markdown",
   "metadata": {},
   "source": [
    "# 5.1.1: Introduction to Statistical Learning"
   ]
  },
  {
   "cell_type": "markdown",
   "metadata": {},
   "source": [
    "Statistical learning can be divided into two categories which\n",
    "are called supervised learning and unsupervised learning.\n",
    "\n",
    "Supervised learning refers to a collection of techniques and algorithms\n",
    "that, when given a set of example inputs and example outputs,\n",
    "learn to associate the inputs with the outputs.\n",
    "The outputs usually need to be provided by a supervisor, which\n",
    "could be a human or another algorithm, and this is where the name comes from.\n",
    "\n",
    "Unsupervised learning refers to a collection of techniques and algorithms\n",
    "that are given inputs only and there are no outputs.\n",
    "The goal of supervised learning is to learn relationships and structure\n",
    "from such data."
   ]
  },
  {
   "cell_type": "markdown",
   "metadata": {},
   "source": [
    "In statistics, variables can be either quantitative or qualitative.\n",
    "Quantitative variables take on numerical values, such as income,\n",
    "whereas qualitative variables take on values in a given category,\n",
    "such as male or female.\n",
    "\n",
    "In some cases, we convert a continuous variable to a categorical variable\n",
    "by specifying the cutoff points between the categories."
   ]
  },
  {
   "cell_type": "markdown",
   "metadata": {},
   "source": [
    "Methods in supervised learning are divided into two groups\n",
    "based on whether the output variable, also called the outcome,\n",
    "is quantitative or qualitative.\n",
    "\n",
    "If the outcome is quantitative, we talk about regression problems,\n",
    "whereas if the outcome is qualitative, we talk about classification problems."
   ]
  },
  {
   "cell_type": "markdown",
   "metadata": {},
   "source": [
    "What the best prediction is depends on the so-called loss function,\n",
    "which is a way of quantifying how far our predictions for Y for a given\n",
    "value of X are from the true observed values of Y\n",
    "\n",
    "First, in a regression setting, by far the most common loss function\n",
    "is the so-called squared error loss.\n",
    "\n",
    "Second, in a classification setting, we most often\n",
    "use the so-called 0-1 loss function, and in that case,\n",
    "the best classification for a given X is obtained\n",
    "by classifying observation of the class with the highest\n",
    "conditional probability given X.\n",
    "\n",
    "Least squares loss is used to estimate the expected value of outputs, whereas  loss is used to estimate the probability of outputs. "
   ]
  },
  {
   "cell_type": "markdown",
   "metadata": {},
   "source": [
    "# 5.1.2: Generating Example Regression Data"
   ]
  },
  {
   "cell_type": "code",
   "execution_count": 68,
   "metadata": {},
   "outputs": [],
   "source": [
    "import numpy as np\n",
    "import scipy.stats as ss\n",
    "import matplotlib.pyplot as plt "
   ]
  },
  {
   "cell_type": "code",
   "execution_count": 48,
   "metadata": {},
   "outputs": [
    {
     "data": {
      "text/plain": [
       "Text(0, 0.5, 'y')"
      ]
     },
     "execution_count": 48,
     "metadata": {},
     "output_type": "execute_result"
    },
    {
     "data": {
      "image/png": "[encoded data removed]",
      "text/plain": [
       "<Figure size 432x288 with 1 Axes>"
      ]
     },
     "metadata": {
      "needs_background": "light"
     },
     "output_type": "display_data"
    }
   ],
   "source": [
    "n = 100 # generate 100 data points\n",
    "beta_0 = 5 \n",
    "beta_1 = 2 \n",
    "\n",
    "np.random.seed(1)\n",
    "\n",
    "# ss.uniform.rvs(size=n) # generates random variables that are distributed on the 0-1 interval. In this case 100.\n",
    "\n",
    "x = 10*ss.uniform.rvs(size=n)# will multiply by 10\n",
    "\n",
    "# ss.norm.rvs(loc=0, scale=1, size=n) # random noise, the mean is going to be 0, scale is going to be 1\n",
    "\n",
    "y = beta_0 + beta_1 *x + ss.norm.rvs(loc=0, scale=1, size=n)\n",
    "\n",
    "\n",
    "plt.figure()\n",
    "plt.plot(x, y, \"o\", ms=5); # circles for plot and marker size = 5\n",
    "\n",
    "xx = np.array([0,10]) # jsut an x range\n",
    "\n",
    "plt.plot(xx, beta_0 + beta_1 *xx)\n",
    "plt.xlabel('x')\n",
    "plt.ylabel('y')"
   ]
  },
  {
   "cell_type": "code",
   "execution_count": 49,
   "metadata": {},
   "outputs": [
    {
     "data": {
      "text/plain": [
       "4.8587792760014565"
      ]
     },
     "execution_count": 49,
     "metadata": {},
     "output_type": "execute_result"
    }
   ],
   "source": [
    "np.mean(x)"
   ]
  },
  {
   "cell_type": "code",
   "execution_count": 50,
   "metadata": {},
   "outputs": [
    {
     "data": {
      "text/plain": [
       "14.80142786070299"
      ]
     },
     "execution_count": 50,
     "metadata": {},
     "output_type": "execute_result"
    }
   ],
   "source": [
    "np.mean(y)"
   ]
  },
  {
   "cell_type": "markdown",
   "metadata": {},
   "source": [
    "# 5.1.3: Simple Linear Regression"
   ]
  },
  {
   "cell_type": "markdown",
   "metadata": {},
   "source": [
    "In simple linear regression, the goal\n",
    "is to predict a quantitative response Y on the basis of a single predictor\n",
    "variable X. It assumes the following relationship between the random\n",
    "variables X and Y."
   ]
  },
  {
   "cell_type": "code",
   "execution_count": 51,
   "metadata": {},
   "outputs": [
    {
     "data": {
      "text/plain": [
       "81.540007425512"
      ]
     },
     "execution_count": 51,
     "metadata": {},
     "output_type": "execute_result"
    }
   ],
   "source": [
    "def compute_rss(y_estimate, y):\n",
    "  return sum(np.power(y-y_estimate, 2))\n",
    "\n",
    "def estimate_y(x, b_0, b_1):\n",
    "  return b_0 + b_1 * x\n",
    "\n",
    "rss = compute_rss(estimate_y(x, beta_0, beta_1), y)\n",
    "rss"
   ]
  },
  {
   "cell_type": "markdown",
   "metadata": {},
   "source": [
    "# 5.1.4: Least Squares Estimation in Code"
   ]
  },
  {
   "cell_type": "code",
   "execution_count": 52,
   "metadata": {},
   "outputs": [],
   "source": [
    "rss = []\n",
    "slopes = np.arange(-10, 15, 0.01)\n",
    "\n",
    "# np.sum(y - beta_0 - slope * x) gives rss for a given slope\n",
    "\n",
    "for slope in slopes:\n",
    "    rss.append(np.sum(y - beta_0 - slope * x)**2)"
   ]
  },
  {
   "cell_type": "code",
   "execution_count": 53,
   "metadata": {},
   "outputs": [
    {
     "data": {
      "text/plain": [
       "[34093010.84694827,\n",
       " 34036294.38766557,\n",
       " 33979625.143854976,\n",
       " 33923003.11551647,\n",
       " 33866428.30265007,\n",
       " 33809900.705255784,\n",
       " 33753420.3233336,\n",
       " 33696987.15688354,\n",
       " 33640601.205905564,\n",
       " 33584262.4703997,\n",
       " 33527970.950365946,\n",
       " 33471726.645804297,\n",
       " 33415529.556714747,\n",
       " 33359379.683097303,\n",
       " 33303277.024951965,\n",
       " 33247221.58227875,\n",
       " 33191213.355077602,\n",
       " 33135252.343348593,\n",
       " 33079338.547091696,\n",
       " 33023471.9663069,\n",
       " 32967652.60099418,\n",
       " 32911880.451153595,\n",
       " 32856155.5167851,\n",
       " 32800477.797888726,\n",
       " 32744847.294464443,\n",
       " 32689264.00651227,\n",
       " 32633727.93403222,\n",
       " 32578239.077024247,\n",
       " 32522797.4354884,\n",
       " 32467403.009424657,\n",
       " 32412055.798833,\n",
       " 32356755.80371347,\n",
       " 32301503.024066035,\n",
       " 32246297.459890705,\n",
       " 32191139.111187514,\n",
       " 32136027.97795639,\n",
       " 32080964.060197376,\n",
       " 32025947.35791048,\n",
       " 31970977.87109568,\n",
       " 31916055.599752996,\n",
       " 31861180.543882407,\n",
       " 31806352.703483924,\n",
       " 31751572.07855756,\n",
       " 31696838.6691033,\n",
       " 31642152.475121133,\n",
       " 31587513.496611096,\n",
       " 31532921.73357313,\n",
       " 31478377.186007295,\n",
       " 31423879.853913553,\n",
       " 31369429.737291906,\n",
       " 31315026.836142406,\n",
       " 31260671.15046497,\n",
       " 31206362.680259664,\n",
       " 31152101.42552645,\n",
       " 31097887.386265352,\n",
       " 31043720.56247635,\n",
       " 30989600.95415947,\n",
       " 30935528.561314676,\n",
       " 30881503.383941993,\n",
       " 30827525.422041435,\n",
       " 30773594.675612953,\n",
       " 30719711.144656606,\n",
       " 30665874.829172336,\n",
       " 30612085.7291602,\n",
       " 30558343.844620153,\n",
       " 30504649.1755522,\n",
       " 30451001.721956383,\n",
       " 30397401.48383266,\n",
       " 30343848.461181015,\n",
       " 30290342.654001515,\n",
       " 30236884.062294103,\n",
       " 30183472.686058804,\n",
       " 30130108.525295593,\n",
       " 30076791.580004506,\n",
       " 30023521.850185532,\n",
       " 29970299.33583864,\n",
       " 29917124.036963858,\n",
       " 29863995.953561205,\n",
       " 29810915.085630648,\n",
       " 29757881.433172166,\n",
       " 29704894.99618582,\n",
       " 29651955.77467158,\n",
       " 29599063.768629435,\n",
       " 29546218.978059415,\n",
       " 29493421.402961485,\n",
       " 29440671.043335665,\n",
       " 29387967.899181936,\n",
       " 29335311.97050032,\n",
       " 29282703.25729083,\n",
       " 29230141.759553406,\n",
       " 29177627.477288127,\n",
       " 29125160.410494957,\n",
       " 29072740.559173867,\n",
       " 29020367.92332488,\n",
       " 28968042.502948012,\n",
       " 28915764.298043255,\n",
       " 28863533.308610592,\n",
       " 28811349.534650024,\n",
       " 28759212.97616159,\n",
       " 28707123.633145247,\n",
       " 28655081.505600996,\n",
       " 28603086.593528893,\n",
       " 28551138.89692886,\n",
       " 28499238.41580094,\n",
       " 28447385.150145125,\n",
       " 28395579.09996141,\n",
       " 28343820.265249837,\n",
       " 28292108.646010328,\n",
       " 28240444.242242943,\n",
       " 28188827.053947657,\n",
       " 28137257.081124473,\n",
       " 28085734.3237734,\n",
       " 28034258.781894445,\n",
       " 27982830.455487583,\n",
       " 27931449.344552822,\n",
       " 27880115.44909017,\n",
       " 27828828.76909964,\n",
       " 27777589.30458121,\n",
       " 27726397.055534877,\n",
       " 27675252.021960635,\n",
       " 27624154.203858532,\n",
       " 27573103.601228505,\n",
       " 27522100.214070592,\n",
       " 27471144.042384803,\n",
       " 27420235.086171106,\n",
       " 27369373.34542953,\n",
       " 27318558.820160028,\n",
       " 27267791.510362647,\n",
       " 27217071.416037377,\n",
       " 27166398.537184205,\n",
       " 27115772.873803142,\n",
       " 27065194.42589419,\n",
       " 27014663.193457335,\n",
       " 26964179.176492598,\n",
       " 26913742.374999955,\n",
       " 26863352.788979426,\n",
       " 26813010.418431014,\n",
       " 26762715.26335468,\n",
       " 26712467.32375045,\n",
       " 26662266.599618357,\n",
       " 26612113.09095835,\n",
       " 26562006.797770455,\n",
       " 26511947.72005466,\n",
       " 26461935.857810978,\n",
       " 26411971.211039394,\n",
       " 26362053.779739916,\n",
       " 26312183.56391255,\n",
       " 26262360.563557293,\n",
       " 26212584.778674114,\n",
       " 26162856.209263086,\n",
       " 26113174.855324138,\n",
       " 26063540.716857303,\n",
       " 26013953.793862555,\n",
       " 25964414.086339932,\n",
       " 25914921.594289415,\n",
       " 25865476.317710984,\n",
       " 25816078.25660468,\n",
       " 25766727.410970487,\n",
       " 25717423.780808393,\n",
       " 25668167.36611838,\n",
       " 25618958.166900497,\n",
       " 25569796.183154717,\n",
       " 25520681.41488104,\n",
       " 25471613.862079464,\n",
       " 25422593.524750005,\n",
       " 25373620.40289264,\n",
       " 25324694.496507395,\n",
       " 25275815.805594254,\n",
       " 25226984.330153227,\n",
       " 25178200.070184268,\n",
       " 25129463.025687434,\n",
       " 25080773.196662724,\n",
       " 25032130.5831101,\n",
       " 24983535.185029577,\n",
       " 24934987.002421185,\n",
       " 24886486.035284888,\n",
       " 24838032.2836207,\n",
       " 24789625.7474286,\n",
       " 24741266.42670861,\n",
       " 24692954.32146074,\n",
       " 24644689.43168497,\n",
       " 24596471.757381294,\n",
       " 24548301.298549756,\n",
       " 24500178.055190288,\n",
       " 24452102.027302954,\n",
       " 24404073.21488771,\n",
       " 24356091.617944557,\n",
       " 24308157.23647353,\n",
       " 24260270.070474602,\n",
       " 24212430.11994778,\n",
       " 24164637.38489307,\n",
       " 24116891.865310468,\n",
       " 24069193.56119997,\n",
       " 24021542.47256156,\n",
       " 23973938.599395268,\n",
       " 23926381.941701096,\n",
       " 23878872.499479014,\n",
       " 23831410.272729028,\n",
       " 23783995.261451185,\n",
       " 23736627.46564541,\n",
       " 23689306.88531176,\n",
       " 23642033.520450216,\n",
       " 23594807.371060766,\n",
       " 23547628.437143423,\n",
       " 23500496.71869819,\n",
       " 23453412.215725057,\n",
       " 23406374.92822405,\n",
       " 23359384.856195122,\n",
       " 23312441.99963832,\n",
       " 23265546.35855363,\n",
       " 23218697.93294102,\n",
       " 23171896.72280053,\n",
       " 23125142.72813214,\n",
       " 23078435.94893586,\n",
       " 23031776.38521168,\n",
       " 22985164.036959626,\n",
       " 22938598.90417966,\n",
       " 22892080.986871805,\n",
       " 22845610.285036042,\n",
       " 22799186.798672408,\n",
       " 22752810.527780876,\n",
       " 22706481.47236142,\n",
       " 22660199.632414095,\n",
       " 22613965.007938888,\n",
       " 22567777.598935768,\n",
       " 22521637.405404754,\n",
       " 22475544.427345853,\n",
       " 22429498.66475906,\n",
       " 22383500.117644362,\n",
       " 22337548.786001764,\n",
       " 22291644.669831295,\n",
       " 22245787.769132905,\n",
       " 22199978.083906632,\n",
       " 22154215.61415248,\n",
       " 22108500.359870426,\n",
       " 22062832.32106047,\n",
       " 22017211.497722622,\n",
       " 21971637.889856875,\n",
       " 21926111.497463245,\n",
       " 21880632.32054172,\n",
       " 21835200.359092295,\n",
       " 21789815.61311498,\n",
       " 21744478.082609765,\n",
       " 21699187.767576665,\n",
       " 21653944.66801566,\n",
       " 21608748.783926763,\n",
       " 21563600.115309976,\n",
       " 21518498.66216528,\n",
       " 21473444.424492717,\n",
       " 21428437.402292244,\n",
       " 21383477.59556388,\n",
       " 21338565.00430762,\n",
       " 21293699.62852346,\n",
       " 21248881.46821141,\n",
       " 21204110.523371473,\n",
       " 21159386.79400364,\n",
       " 21114710.28010791,\n",
       " 21070080.981684286,\n",
       " 21025498.898732763,\n",
       " 20980964.031253345,\n",
       " 20936476.37924604,\n",
       " 20892035.942710843,\n",
       " 20847642.721647743,\n",
       " 20803296.71605675,\n",
       " 20758997.92593788,\n",
       " 20714746.351291105,\n",
       " 20670541.992116414,\n",
       " 20626384.84841385,\n",
       " 20582274.9201834,\n",
       " 20538212.207425028,\n",
       " 20494196.71013879,\n",
       " 20450228.428324644,\n",
       " 20406307.36198261,\n",
       " 20362433.511112683,\n",
       " 20318606.875714842,\n",
       " 20274827.455789126,\n",
       " 20231095.25133551,\n",
       " 20187410.262354005,\n",
       " 20143772.4888446,\n",
       " 20100181.930807304,\n",
       " 20056638.588242102,\n",
       " 20013142.461149037,\n",
       " 19969693.549528044,\n",
       " 19926291.853379168,\n",
       " 19882937.372702405,\n",
       " 19839630.107497737,\n",
       " 19796370.057765193,\n",
       " 19753157.223504722,\n",
       " 19709991.604716383,\n",
       " 19666873.201400165,\n",
       " 19623802.01355602,\n",
       " 19580778.04118398,\n",
       " 19537801.28428407,\n",
       " 19494871.742856257,\n",
       " 19451989.416900534,\n",
       " 19409154.30641693,\n",
       " 19366366.411405433,\n",
       " 19323625.731866054,\n",
       " 19280932.267798763,\n",
       " 19238286.01920357,\n",
       " 19195686.986080505,\n",
       " 19153135.16842953,\n",
       " 19110630.566250667,\n",
       " 19068173.17954392,\n",
       " 19025763.008309256,\n",
       " 18983400.052546714,\n",
       " 18941084.31225627,\n",
       " 18898815.78743794,\n",
       " 18856594.478091713,\n",
       " 18814420.38421758,\n",
       " 18772293.505815566,\n",
       " 18730213.84288565,\n",
       " 18688181.39542785,\n",
       " 18646196.163442153,\n",
       " 18604258.146928564,\n",
       " 18562367.345887072,\n",
       " 18520523.760317687,\n",
       " 18478727.390220415,\n",
       " 18436978.23559523,\n",
       " 18395276.29644217,\n",
       " 18353621.572761208,\n",
       " 18312014.064552367,\n",
       " 18270453.771815613,\n",
       " 18228940.69455097,\n",
       " 18187474.832758438,\n",
       " 18146056.186438,\n",
       " 18104684.755589675,\n",
       " 18063360.54021346,\n",
       " 18022083.540309336,\n",
       " 17980853.75587734,\n",
       " 17939671.186917443,\n",
       " 17898535.833429642,\n",
       " 17857447.69541396,\n",
       " 17816406.77287037,\n",
       " 17775413.06579889,\n",
       " 17734466.574199513,\n",
       " 17693567.29807224,\n",
       " 17652715.237417087,\n",
       " 17611910.392234027,\n",
       " 17571152.76252308,\n",
       " 17530442.348284245,\n",
       " 17489779.14951751,\n",
       " 17449163.166222874,\n",
       " 17408594.398400344,\n",
       " 17368072.84604992,\n",
       " 17327598.509171613,\n",
       " 17287171.3877654,\n",
       " 17246791.4818313,\n",
       " 17206458.7913693,\n",
       " 17166173.316379413,\n",
       " 17125935.056861624,\n",
       " 17085744.01281595,\n",
       " 17045600.18424237,\n",
       " 17005503.571140908,\n",
       " 16965454.173511542,\n",
       " 16925451.991354283,\n",
       " 16885497.024669137,\n",
       " 16845589.273456093,\n",
       " 16805728.73771515,\n",
       " 16765915.417446312,\n",
       " 16726149.312649589,\n",
       " 16686430.42332497,\n",
       " 16646758.749472456,\n",
       " 16607134.291092042,\n",
       " 16567557.048183741,\n",
       " 16528027.020747548,\n",
       " 16488544.208783451,\n",
       " 16449108.612291457,\n",
       " 16409720.23127158,\n",
       " 16370379.065723805,\n",
       " 16331085.11564814,\n",
       " 16291838.381044574,\n",
       " 16252638.861913115,\n",
       " 16213486.558253763,\n",
       " 16174381.470066514,\n",
       " 16135323.597351378,\n",
       " 16096312.94010834,\n",
       " 16057349.498337416,\n",
       " 16018433.272038585,\n",
       " 15979564.261211876,\n",
       " 15940742.465857258,\n",
       " 15901967.885974752,\n",
       " 15863240.52156436,\n",
       " 15824560.372626059,\n",
       " 15785927.439159878,\n",
       " 15747341.721165793,\n",
       " 15708803.21864382,\n",
       " 15670311.931593945,\n",
       " 15631867.860016182,\n",
       " 15593471.00391052,\n",
       " 15555121.36327697,\n",
       " 15516818.938115519,\n",
       " 15478563.728426177,\n",
       " 15440355.734208941,\n",
       " 15402194.955463812,\n",
       " 15364081.392190792,\n",
       " 15326015.044389868,\n",
       " 15287995.912061056,\n",
       " 15250023.99520435,\n",
       " 15212099.293819746,\n",
       " 15174221.80790725,\n",
       " 15136391.537466869,\n",
       " 15098608.482498577,\n",
       " 15060872.6430024,\n",
       " 15023184.018978328,\n",
       " 14985542.610426366,\n",
       " 14947948.417346502,\n",
       " 14910401.439738747,\n",
       " 14872901.6776031,\n",
       " 14835449.130939553,\n",
       " 14798043.799748115,\n",
       " 14760685.684028788,\n",
       " 14723374.783781566,\n",
       " 14686111.099006442,\n",
       " 14648894.629703417,\n",
       " 14611725.375872524,\n",
       " 14574603.337513719,\n",
       " 14537528.51462702,\n",
       " 14500500.907212423,\n",
       " 14463520.515269943,\n",
       " 14426587.338799564,\n",
       " 14389701.377801286,\n",
       " 14352862.63227512,\n",
       " 14316071.102221064,\n",
       " 14279326.787639106,\n",
       " 14242629.688529247,\n",
       " 14205979.804891508,\n",
       " 14169377.136725869,\n",
       " 14132821.68403234,\n",
       " 14096313.446810909,\n",
       " 14059852.42506159,\n",
       " 14023438.61878438,\n",
       " 13987072.027979268,\n",
       " 13950752.652646253,\n",
       " 13914480.492785363,\n",
       " 13878255.548396572,\n",
       " 13842077.819479883,\n",
       " 13805947.306035297,\n",
       " 13769864.008062825,\n",
       " 13733827.92556246,\n",
       " 13697839.058534194,\n",
       " 13661897.406978035,\n",
       " 13626002.970893981,\n",
       " 13590155.750282042,\n",
       " 13554355.7451422,\n",
       " 13518602.955474464,\n",
       " 13482897.381278837,\n",
       " 13447239.022555307,\n",
       " 13411627.8793039,\n",
       " 13376063.951524584,\n",
       " 13340547.239217378,\n",
       " 13305077.742382279,\n",
       " 13269655.461019289,\n",
       " 13234280.395128397,\n",
       " 13198952.544709615,\n",
       " 13163671.90976294,\n",
       " 13128438.49028837,\n",
       " 13093252.286285905,\n",
       " 13058113.297755543,\n",
       " 13023021.524697293,\n",
       " 12987976.96711115,\n",
       " 12952979.624997105,\n",
       " 12918029.498355169,\n",
       " 12883126.587185336,\n",
       " 12848270.891487615,\n",
       " 12813462.411261994,\n",
       " 12778701.146508483,\n",
       " 12743987.097227076,\n",
       " 12709320.263417775,\n",
       " 12674700.645080581,\n",
       " 12640128.242215492,\n",
       " 12605603.054822505,\n",
       " 12571125.082901634,\n",
       " 12536694.326452859,\n",
       " 12502310.785476193,\n",
       " 12467974.459971627,\n",
       " 12433685.349939175,\n",
       " 12399443.45537883,\n",
       " 12365248.77629058,\n",
       " 12331101.312674452,\n",
       " 12297001.06453041,\n",
       " 12262948.031858495,\n",
       " 12228942.214658672,\n",
       " 12194983.612930961,\n",
       " 12161072.226675345,\n",
       " 12127208.055891847,\n",
       " 12093391.100580448,\n",
       " 12059621.36074116,\n",
       " 12025898.836373974,\n",
       " 11992223.527478894,\n",
       " 11958595.434055924,\n",
       " 11925014.556105055,\n",
       " 11891480.89362629,\n",
       " 11857994.446619637,\n",
       " 11824555.215085087,\n",
       " 11791163.199022643,\n",
       " 11757818.398432301,\n",
       " 11724520.813314069,\n",
       " 11691270.443667946,\n",
       " 11658067.289493926,\n",
       " 11624911.350792004,\n",
       " 11591802.6275622,\n",
       " 11558741.119804498,\n",
       " 11525726.827518897,\n",
       " 11492759.750705402,\n",
       " 11459839.88936402,\n",
       " 11426967.243494738,\n",
       " 11394141.813097566,\n",
       " 11361363.598172491,\n",
       " 11328632.59871953,\n",
       " 11295948.814738676,\n",
       " 11263312.246229919,\n",
       " 11230722.893193275,\n",
       " 11198180.755628733,\n",
       " 11165685.833536305,\n",
       " 11133238.12691597,\n",
       " 11100837.635767754,\n",
       " 11068484.360091636,\n",
       " 11036178.299887624,\n",
       " 11003919.45515572,\n",
       " 10971707.82589592,\n",
       " 10939543.412108228,\n",
       " 10907426.213792637,\n",
       " 10875356.230949156,\n",
       " 10843333.463577777,\n",
       " 10811357.91167851,\n",
       " 10779429.575251345,\n",
       " 10747548.454296287,\n",
       " 10715714.54881333,\n",
       " 10683927.858802486,\n",
       " 10652188.384263746,\n",
       " 10620496.12519711,\n",
       " 10588851.081602579,\n",
       " 10557253.253480155,\n",
       " 10525702.640829839,\n",
       " 10494199.243651625,\n",
       " 10462743.061945518,\n",
       " 10431334.095711514,\n",
       " 10399972.344949625,\n",
       " 10368657.809659831,\n",
       " 10337390.489842154,\n",
       " 10306170.385496574,\n",
       " 10274997.496623099,\n",
       " 10243871.823221738,\n",
       " 10212793.365292475,\n",
       " 10181762.122835323,\n",
       " 10150778.095850272,\n",
       " 10119841.284337332,\n",
       " 10088951.688296493,\n",
       " 10058109.307727762,\n",
       " 10027314.142631136,\n",
       " 9996566.193006618,\n",
       " 9965865.458854204,\n",
       " 9935211.940173896,\n",
       " 9904605.636965694,\n",
       " 9874046.549229596,\n",
       " 9843534.676965605,\n",
       " 9813070.020173721,\n",
       " 9782652.578853939,\n",
       " 9752282.353006272,\n",
       " 9721959.342630705,\n",
       " 9691683.54772724,\n",
       " 9661454.968295885,\n",
       " 9631273.604336636,\n",
       " 9601139.455849495,\n",
       " 9571052.522834454,\n",
       " 9541012.805291517,\n",
       " 9511020.303220695,\n",
       " 9481075.016621975,\n",
       " 9451176.94549536,\n",
       " 9421326.089840844,\n",
       " 9391522.449658448,\n",
       " 9361766.02494815,\n",
       " 9332056.815709958,\n",
       " 9302394.821943866,\n",
       " 9272780.043649888,\n",
       " 9243212.480828019,\n",
       " 9213692.133478245,\n",
       " 9184219.001600584,\n",
       " 9154793.085195022,\n",
       " 9125414.384261578,\n",
       " 9096082.898800228,\n",
       " 9066798.628810989,\n",
       " 9037561.574293852,\n",
       " 9008371.73524883,\n",
       " 8979229.111675909,\n",
       " 8950133.703575086,\n",
       " 8921085.510946378,\n",
       " 8892084.533789774,\n",
       " 8863130.772105275,\n",
       " 8834224.22589288,\n",
       " 8805364.895152591,\n",
       " 8776552.779884413,\n",
       " 8747787.880088337,\n",
       " 8719070.195764365,\n",
       " 8690399.726912504,\n",
       " 8661776.473532742,\n",
       " 8633200.435625087,\n",
       " 8604671.61318954,\n",
       " 8576190.0062261,\n",
       " 8547755.61473477,\n",
       " 8519368.438715536,\n",
       " 8491028.478168415,\n",
       " 8462735.733093394,\n",
       " 8434490.203490488,\n",
       " 8406291.889359677,\n",
       " 8378140.790700979,\n",
       " 8350036.907514382,\n",
       " 8321980.239799891,\n",
       " 8293970.787557511,\n",
       " 8266008.550787231,\n",
       " 8238093.529489062,\n",
       " 8210225.723662997,\n",
       " 8182405.133309037,\n",
       " 8154631.758427183,\n",
       " 8126905.599017433,\n",
       " 8099226.655079793,\n",
       " 8071594.926614254,\n",
       " 8044010.413620826,\n",
       " 8016473.116099498,\n",
       " 7988983.034050279,\n",
       " 7961540.167473163,\n",
       " 7934144.516368158,\n",
       " 7906796.080735254,\n",
       " 7879494.860574461,\n",
       " 7852240.855885771,\n",
       " 7825034.066669187,\n",
       " 7797874.492924708,\n",
       " 7770762.134652335,\n",
       " 7743696.991852064,\n",
       " 7716679.0645239055,\n",
       " 7689708.352667852,\n",
       " 7662784.8562839,\n",
       " 7635908.575372057,\n",
       " 7609079.509932317,\n",
       " 7582297.659964687,\n",
       " 7555563.025469161,\n",
       " 7528875.606445743,\n",
       " 7502235.402894423,\n",
       " 7475642.414815219,\n",
       " 7449096.6422081115,\n",
       " 7422598.085073112,\n",
       " 7396146.743410227,\n",
       " 7369742.617219437,\n",
       " 7343385.706500757,\n",
       " 7317076.01125418,\n",
       " 7290813.531479714,\n",
       " 7264598.267177352,\n",
       " 7238430.218347093,\n",
       " 7212309.384988942,\n",
       " 7186235.7671029,\n",
       " 7160209.36468896,\n",
       " 7134230.177747125,\n",
       " 7108298.206277395,\n",
       " 7082413.450279777,\n",
       " 7056575.909754261,\n",
       " 7030785.584700849,\n",
       " 7005042.475119541,\n",
       " 6979346.581010348,\n",
       " 6953697.902373252,\n",
       " 6928096.4392082635,\n",
       " 6902542.191515384,\n",
       " 6877035.159294609,\n",
       " 6851575.3425459415,\n",
       " 6826162.741269373,\n",
       " 6800797.355464918,\n",
       " 6775479.185132565,\n",
       " 6750208.230272316,\n",
       " 6724984.4908841755,\n",
       " 6699807.966968141,\n",
       " 6674678.658524214,\n",
       " 6649596.565552391,\n",
       " 6624561.688052666,\n",
       " 6599574.02602506,\n",
       " 6574633.579469553,\n",
       " 6549740.348386155,\n",
       " 6524894.332774857,\n",
       " 6500095.532635671,\n",
       " 6475343.947968584,\n",
       " 6450639.578773611,\n",
       " 6425982.425050738,\n",
       " 6401372.486799972,\n",
       " 6376809.764021313,\n",
       " 6352294.2567147575,\n",
       " 6327825.964880312,\n",
       " 6303404.888517967,\n",
       " 6279031.027627731,\n",
       " 6254704.382209601,\n",
       " 6230424.952263576,\n",
       " 6206192.73778966,\n",
       " 6182007.738787844,\n",
       " 6157869.955258137,\n",
       " 6133779.387200535,\n",
       " 6109736.034615037,\n",
       " 6085739.89750165,\n",
       " 6061790.975860364,\n",
       " 6037889.269691188,\n",
       " 6014034.778994115,\n",
       " 5990227.503769148,\n",
       " 5966467.444016288,\n",
       " 5942754.59973553,\n",
       " 5919088.970926884,\n",
       " 5895470.5575903375,\n",
       " 5871899.359725902,\n",
       " 5848375.377333568,\n",
       " 5824898.610413342,\n",
       " 5801469.058965222,\n",
       " 5778086.722989207,\n",
       " 5754751.602485299,\n",
       " 5731463.697453496,\n",
       " 5708223.007893799,\n",
       " 5685029.533806206,\n",
       " 5661883.27519072,\n",
       " 5638784.232047343,\n",
       " 5615732.404376066,\n",
       " 5592727.792176899,\n",
       " 5569770.395449834,\n",
       " 5546860.214194882,\n",
       " 5523997.248412027,\n",
       " 5501181.498101282,\n",
       " 5478412.963262643,\n",
       " 5455691.643896112,\n",
       " 5433017.540001685,\n",
       " 5410390.6515793605,\n",
       " 5387810.978629143,\n",
       " 5365278.521151037,\n",
       " 5342793.279145028,\n",
       " 5320355.2526111305,\n",
       " 5297964.441549341,\n",
       " 5275620.845959652,\n",
       " 5253324.465842069,\n",
       " 5231075.301196592,\n",
       " 5208873.352023227,\n",
       " 5186718.618321964,\n",
       " 5164611.100092805,\n",
       " 5142550.797335751,\n",
       " 5120537.710050809,\n",
       " 5098571.838237966,\n",
       " 5076653.181897228,\n",
       " 5054781.741028601,\n",
       " 5032957.515632078,\n",
       " 5011180.505707663,\n",
       " 4989450.711255347,\n",
       " 4967768.132275142,\n",
       " 4946132.768767044,\n",
       " 4924544.620731052,\n",
       " 4903003.688167159,\n",
       " 4881509.971075379,\n",
       " 4860063.4694557,\n",
       " 4838664.183308132,\n",
       " 4817312.112632665,\n",
       " 4796007.257429305,\n",
       " 4774749.61769805,\n",
       " 4753539.193438906,\n",
       " 4732375.984651861,\n",
       " 4711259.991336926,\n",
       " 4690191.213494096,\n",
       " 4669169.651123372,\n",
       " 4648195.304224753,\n",
       " 4627268.172798238,\n",
       " 4606388.256843831,\n",
       " 4585555.556361532,\n",
       " 4564770.071351334,\n",
       " 4544031.801813245,\n",
       " 4523340.747747261,\n",
       " 4502696.909153385,\n",
       " 4482100.2860316085,\n",
       " 4461550.878381944,\n",
       " 4441048.686204383,\n",
       " 4420593.709498927,\n",
       " 4400185.9482655795,\n",
       " 4379825.402504336,\n",
       " 4359512.072215197,\n",
       " 4339245.957398165,\n",
       " 4319027.058053239,\n",
       " 4298855.374180419,\n",
       " 4278730.905779705,\n",
       " 4258653.652851097,\n",
       " 4238623.615394594,\n",
       " 4218640.793410196,\n",
       " 4198705.186897905,\n",
       " 4178816.79585772,\n",
       " 4158975.62028964,\n",
       " 4139181.6601936673,\n",
       " 4119434.9155697986,\n",
       " 4099735.386418038,\n",
       " 4080083.0727383792,\n",
       " 4060477.9745308296,\n",
       " 4040920.091795384,\n",
       " 4021409.424532047,\n",
       " 4001945.972740812,\n",
       " 3982529.7364216857,\n",
       " 3963160.7155746617,\n",
       " 3943838.910199749,\n",
       " 3924564.320296937,\n",
       " 3905336.945866235,\n",
       " 3886156.7869076356,\n",
       " 3867023.8434211435,\n",
       " 3847938.115406756,\n",
       " 3828899.602864475,\n",
       " 3809908.305794299,\n",
       " 3790964.2241962305,\n",
       " 3772067.3580702664,\n",
       " 3753217.7074164115,\n",
       " 3734415.272234657,\n",
       " 3715660.052525012,\n",
       " 3696952.0482874704,\n",
       " 3678291.259522036,\n",
       " 3659677.6862287074,\n",
       " 3641111.3284074846,\n",
       " 3622592.1860583667,\n",
       " 3604120.2591813565,\n",
       " 3585695.547776449,\n",
       " 3567318.0518436506,\n",
       " 3548987.7713829568,\n",
       " 3530704.706394367,\n",
       " 3512468.856877886,\n",
       " 3494280.222833509,\n",
       " 3476138.8042612374,\n",
       " 3458044.601161072,\n",
       " 3439997.6135330135,\n",
       " 3421997.8413770595,\n",
       " 3404045.284693213,\n",
       " 3386139.9434814705,\n",
       " 3368281.8177418355,\n",
       " 3350470.9074743045,\n",
       " 3332707.2126788814,\n",
       " 3314990.7333555627,\n",
       " 3297321.4695043503,\n",
       " 3279699.4211252416,\n",
       " 3262124.5882182424,\n",
       " 3244596.9707833445,\n",
       " 3227116.5688205566,\n",
       " 3209683.3823298723,\n",
       " 3192297.4113112953,\n",
       " 3174958.6557648215,\n",
       " 3157667.115690457,\n",
       " 3140422.7910881955,\n",
       " 3123225.681958041,\n",
       " 3106075.7882999913,\n",
       " 3088973.1101140482,\n",
       " 3071917.6474002106,\n",
       " 3054909.4001584807,\n",
       " 3037948.3683888535,\n",
       " 3021034.5520913345,\n",
       " 3004167.9512659195,\n",
       " 2987348.5659126113,\n",
       " 2970576.3960314086,\n",
       " 2953851.4416223136,\n",
       " 2937173.702685321,\n",
       " 2920543.179220436,\n",
       " 2903959.8712276556,\n",
       " 2887423.7787069827,\n",
       " 2870934.9016584153,\n",
       " 2854493.2400819524,\n",
       " 2838098.7939775963,\n",
       " 2821751.563345346,\n",
       " 2805451.5481852028,\n",
       " 2789198.7484971625,\n",
       " 2772993.1642812304,\n",
       " 2756834.7955374024,\n",
       " 2740723.642265681,\n",
       " 2724659.7044660654,\n",
       " 2708642.9821385564,\n",
       " 2692673.475283151,\n",
       " 2676751.1838998552,\n",
       " 2660876.1079886616,\n",
       " 2645048.2475495767,\n",
       " 2629267.6025825944,\n",
       " 2613534.173087721,\n",
       " 2597847.959064951,\n",
       " 2582208.9605142875,\n",
       " 2566617.177435729,\n",
       " 2551072.609829278,\n",
       " 2535575.2576949317,\n",
       " 2520125.1210326925,\n",
       " 2504722.1998425582,\n",
       " 2489366.49412453,\n",
       " 2474058.0038786056,\n",
       " 2458796.7291047894,\n",
       " 2443582.6698030783,\n",
       " 2428415.8259734726,\n",
       " 2413296.1976159737,\n",
       " 2398223.7847305792,\n",
       " 2383198.5873172903,\n",
       " 2368220.605376108,\n",
       " 2353289.838907033,\n",
       " 2338406.287910063,\n",
       " 2323569.9523851983,\n",
       " 2308780.8323324393,\n",
       " 2294038.9277517856,\n",
       " 2279344.2386432383,\n",
       " 2264696.765006797,\n",
       " 2250096.5068424614,\n",
       " 2235543.464150231,\n",
       " 2221037.6369301067,\n",
       " 2206579.0251820893,\n",
       " 2192167.628906175,\n",
       " 2177803.4481023694,\n",
       " 2163486.482770668,\n",
       " 2149216.7329110736,\n",
       " 2134994.198523584,\n",
       " 2120818.879608201,\n",
       " 2106690.776164922,\n",
       " 2092609.888193751,\n",
       " 2078576.2156946843,\n",
       " 2064589.758667724,\n",
       " 2050650.5171128695,\n",
       " 2036758.4910301215,\n",
       " 2022913.680419478,\n",
       " 2009116.085280941,\n",
       " 1995365.705614509,\n",
       " 1981662.5414201843,\n",
       " 1968006.592697964,\n",
       " 1954397.8594478508,\n",
       " 1940836.3416698417,\n",
       " 1927322.0393639393,\n",
       " 1913854.9525301424,\n",
       " 1900435.0811684516,\n",
       " 1887062.425278867,\n",
       " 1873736.9848613886,\n",
       " 1860458.7599160152,\n",
       " 1847227.7504427477,\n",
       " 1834043.9564415854,\n",
       " 1820907.3779125297,\n",
       " 1807818.0148555797,\n",
       " 1794775.8672707349,\n",
       " 1781780.9351579964,\n",
       " 1768833.2185173645,\n",
       " 1755932.717348837,\n",
       " 1743079.431652416,\n",
       " 1730273.3614281006,\n",
       " 1717514.5066758913,\n",
       " 1704802.8673957877,\n",
       " 1692138.4435877898,\n",
       " 1679521.2352518977,\n",
       " 1666951.242388111,\n",
       " 1654428.4649964299,\n",
       " 1641952.9030768552,\n",
       " 1629524.5566293865,\n",
       " 1617143.4256540234,\n",
       " 1604809.5101507662,\n",
       " 1592522.8101196142,\n",
       " 1580283.3255605693,\n",
       " 1568091.0564736293,\n",
       " 1555946.0028587952,\n",
       " 1543848.1647160666,\n",
       " 1531797.5420454452,\n",
       " 1519794.134846927,\n",
       " 1507837.9431205166,\n",
       " 1495928.966866211,\n",
       " 1484067.2060840118,\n",
       " 1472252.6607739185,\n",
       " 1460485.3309359308,\n",
       " 1448765.216570049,\n",
       " 1437092.3176762725,\n",
       " 1425466.6342546022,\n",
       " 1413888.1663050377,\n",
       " 1402356.9138275785,\n",
       " 1390872.8768222257,\n",
       " 1379436.0552889793,\n",
       " 1368046.4492278374,\n",
       " 1356704.058638802,\n",
       " 1345408.8835218723,\n",
       " 1334160.9238770485,\n",
       " 1322960.179704331,\n",
       " 1311806.6510037184,\n",
       " 1300700.3377752125,\n",
       " 1289641.2400188113,\n",
       " 1278629.357734516,\n",
       " 1267664.6909223269,\n",
       " 1256747.2395822436,\n",
       " 1245877.0037142662,\n",
       " 1235053.9833183947,\n",
       " 1224278.1783946282,\n",
       " 1213549.5889429683,\n",
       " 1202868.2149634145,\n",
       " 1192234.0564559656,\n",
       " 1181647.1134206236,\n",
       " 1171107.3858573867,\n",
       " 1160614.8737662546,\n",
       " 1150169.57714723,\n",
       " 1139771.49600031,\n",
       " 1129420.630325496,\n",
       " 1119116.980122788,\n",
       " 1108860.5453921861,\n",
       " 1098651.3261336898,\n",
       " 1088489.3223472994,\n",
       " 1078374.534033015,\n",
       " 1068306.961190836,\n",
       " 1058286.603820763,\n",
       " 1048313.4619227957,\n",
       " 1038387.5354969343,\n",
       " 1028508.8245431784,\n",
       " 1018677.3290615287,\n",
       " 1008893.0490519846,\n",
       " 999155.9845145461,\n",
       " 989466.1354492139,\n",
       " 979823.5018559874,\n",
       " 970228.0837348661,\n",
       " ...]"
      ]
     },
     "execution_count": 53,
     "metadata": {},
     "output_type": "execute_result"
    }
   ],
   "source": [
    "rss"
   ]
  },
  {
   "cell_type": "code",
   "execution_count": 54,
   "metadata": {},
   "outputs": [
    {
     "data": {
      "text/plain": [
       "1202"
      ]
     },
     "execution_count": 54,
     "metadata": {},
     "output_type": "execute_result"
    }
   ],
   "source": [
    "# I'm going to create a variable which is ind_min, and this will be used to find the index within the rss list that\n",
    "# gives me the lowest value for rss.\n",
    "\n",
    "ind_min = np.argmin(rss) # finds x for which y is at is lowest\n",
    "ind_min\n",
    "\n",
    "# lowest value for rss happens at index location 1,202."
   ]
  },
  {
   "cell_type": "code",
   "execution_count": 55,
   "metadata": {},
   "outputs": [
    {
     "name": "stdout",
     "output_type": "stream",
     "text": [
      "Estimate for the Slope: 2.019999999999744\n"
     ]
    }
   ],
   "source": [
    "print(\"Estimate for the Slope:\", slopes[ind_min])"
   ]
  },
  {
   "cell_type": "code",
   "execution_count": 56,
   "metadata": {},
   "outputs": [
    {
     "data": {
      "text/plain": [
       "Text(0, 0.5, 'Rss')"
      ]
     },
     "execution_count": 56,
     "metadata": {},
     "output_type": "execute_result"
    },
    {
     "data": {
      "image/png": "[encoded data removed]",
      "text/plain": [
       "<Figure size 432x288 with 1 Axes>"
      ]
     },
     "metadata": {
      "needs_background": "light"
     },
     "output_type": "display_data"
    }
   ],
   "source": [
    "# Plot figure\n",
    "plt.figure()\n",
    "plt.plot(slopes, rss)\n",
    "plt.xlabel(\"Slope\")\n",
    "plt.ylabel(\"Rss\")\n",
    "\n",
    "# remember, the goal is to find the value of slope, the value of the parameter that\n",
    "# gives us the smallest value for RSS. And looking at the plot, it looks like it happens at around 2."
   ]
  },
  {
   "cell_type": "markdown",
   "metadata": {},
   "source": [
    "# 5.1.5: Simple Linear Regression in Code"
   ]
  },
  {
   "cell_type": "code",
   "execution_count": 60,
   "metadata": {},
   "outputs": [
    {
     "name": "stdout",
     "output_type": "stream",
     "text": [
      "                                 OLS Regression Results                                \n",
      "=======================================================================================\n",
      "Dep. Variable:                      y   R-squared (uncentered):                   0.968\n",
      "Model:                            OLS   Adj. R-squared (uncentered):              0.967\n",
      "Method:                 Least Squares   F-statistic:                              2974.\n",
      "Date:                Sat, 15 Jan 2022   Prob (F-statistic):                    1.14e-75\n",
      "Time:                        20:34:59   Log-Likelihood:                         -246.89\n",
      "No. Observations:                 100   AIC:                                      495.8\n",
      "Df Residuals:                      99   BIC:                                      498.4\n",
      "Df Model:                           1                                                  \n",
      "Covariance Type:            nonrobust                                                  \n",
      "==============================================================================\n",
      "                 coef    std err          t      P>|t|      [0.025      0.975]\n",
      "------------------------------------------------------------------------------\n",
      "x1             2.7569      0.051     54.538      0.000       2.657       2.857\n",
      "==============================================================================\n",
      "Omnibus:                        7.901   Durbin-Watson:                   1.579\n",
      "Prob(Omnibus):                  0.019   Jarque-Bera (JB):                3.386\n",
      "Skew:                           0.139   Prob(JB):                        0.184\n",
      "Kurtosis:                       2.143   Cond. No.                         1.00\n",
      "==============================================================================\n",
      "\n",
      "Notes:\n",
      "[1] R² is computed without centering (uncentered) since the model does not contain a constant.\n",
      "[2] Standard Errors assume that the covariance matrix of the errors is correctly specified.\n"
     ]
    }
   ],
   "source": [
    "import statsmodels.api as sm\n",
    "model = sm.OLS(y, x)\n",
    "estimates = model.fit() # this model has a slope but no intercept\n",
    "print(estimates.summary())"
   ]
  },
  {
   "cell_type": "code",
   "execution_count": 61,
   "metadata": {},
   "outputs": [
    {
     "name": "stdout",
     "output_type": "stream",
     "text": [
      "                            OLS Regression Results                            \n",
      "==============================================================================\n",
      "Dep. Variable:                      y   R-squared:                       0.977\n",
      "Model:                            OLS   Adj. R-squared:                  0.977\n",
      "Method:                 Least Squares   F-statistic:                     4115.\n",
      "Date:                Sat, 15 Jan 2022   Prob (F-statistic):           7.47e-82\n",
      "Time:                        20:35:00   Log-Likelihood:                -130.72\n",
      "No. Observations:                 100   AIC:                             265.4\n",
      "Df Residuals:                      98   BIC:                             270.7\n",
      "Df Model:                           1                                         \n",
      "Covariance Type:            nonrobust                                         \n",
      "==============================================================================\n",
      "                 coef    std err          t      P>|t|      [0.025      0.975]\n",
      "------------------------------------------------------------------------------\n",
      "const          5.2370      0.174     30.041      0.000       4.891       5.583\n",
      "x1             1.9685      0.031     64.151      0.000       1.908       2.029\n",
      "==============================================================================\n",
      "Omnibus:                        2.308   Durbin-Watson:                   2.206\n",
      "Prob(Omnibus):                  0.315   Jarque-Bera (JB):                1.753\n",
      "Skew:                          -0.189   Prob(JB):                        0.416\n",
      "Kurtosis:                       3.528   Cond. No.                         11.2\n",
      "==============================================================================\n",
      "\n",
      "Notes:\n",
      "[1] Standard Errors assume that the covariance matrix of the errors is correctly specified.\n"
     ]
    }
   ],
   "source": [
    "X = sm.add_constant(x) # use method add constant to add an intercept to the model\n",
    "model2 = sm.OLS(y, X)\n",
    "estimates2 = model2.fit() \n",
    "print(estimates2.summary())"
   ]
  },
  {
   "cell_type": "markdown",
   "metadata": {},
   "source": [
    "# 5.1.6: Multiple Linear Regression\n"
   ]
  },
  {
   "cell_type": "markdown",
   "metadata": {},
   "source": [
    "In multiple linear regression,\n",
    "the goal is to predict a quantitative or a scalar valued\n",
    "response, Y, on the basis of several predictor variables.\n",
    "\n",
    "If the values of the predictors are correlated,\n",
    "it may not be possible to change the value of one predictor\n",
    "and keep the others fixed.\n",
    "\n",
    "So one therefore always needs to be careful with interpretation\n",
    "of model results."
   ]
  },
  {
   "cell_type": "markdown",
   "metadata": {},
   "source": [
    "# 5.1.7: scikit-learn for Linear Regression"
   ]
  },
  {
   "cell_type": "markdown",
   "metadata": {},
   "source": [
    "Scikit-learn depends on two other Python packages, NumPy and SciPy"
   ]
  },
  {
   "cell_type": "code",
   "execution_count": 77,
   "metadata": {},
   "outputs": [],
   "source": [
    "n = 500\n",
    "beta_0 = 5\n",
    "beta_1 = 2\n",
    "beta_2 = -1 \n",
    "np.random.seed(1) # to obtain the same results\n",
    "x_1 = 10 * ss.uniform.rvs(size=n) # we're generating x1 points, n of them,and they are uniformly distributed between 0 and 10\n",
    "x_2 = 10 * ss.uniform.rvs(size=n)\n",
    "y = beta_0 + beta_1 * x_1 + beta_2 * x_2 + ss.norm.rvs(loc = 0, scale = 1, size = n)\n",
    "X = np.stack([x_1, x_2], axis = 1) # input consists of a list where we specify the vectors, or arrays, that we would like to stack."
   ]
  },
  {
   "cell_type": "code",
   "execution_count": 81,
   "metadata": {},
   "outputs": [
    {
     "data": {
      "image/png": "[encoded data removed]",
      "text/plain": [
       "<Figure size 432x288 with 1 Axes>"
      ]
     },
     "metadata": {
      "needs_background": "light"
     },
     "output_type": "display_data"
    }
   ],
   "source": [
    "from mpl_toolkits.mplot3d import Axes3D\n",
    "fig = plt.figure()\n",
    "ax = fig.add_subplot(111, projection = \"3d\")\n",
    "ax.scatter(X[:,0], X[:,1], y, c=y)\n",
    "ax.set_xlabel(\"$x_1$\")\n",
    "ax.set_ylabel(\"$x_2$\")\n",
    "ax.set_zlabel(\"$y$\");\n"
   ]
  },
  {
   "cell_type": "code",
   "execution_count": 83,
   "metadata": {},
   "outputs": [
    {
     "name": "stdout",
     "output_type": "stream",
     "text": [
      "Collecting scikit-learn\n",
      "  Downloading scikit_learn-1.0.2-cp37-cp37m-win_amd64.whl (7.1 MB)\n",
      "Collecting joblib>=0.11\n",
      "  Downloading joblib-1.1.0-py2.py3-none-any.whl (306 kB)\n",
      "Collecting threadpoolctl>=2.0.0\n",
      "  Downloading threadpoolctl-3.0.0-py3-none-any.whl (14 kB)\n",
      "Requirement already satisfied, skipping upgrade: scipy>=1.1.0 in c:\\users\\rafael\\miniconda3\\lib\\site-packages (from scikit-learn) (1.7.2)\n",
      "Requirement already satisfied, skipping upgrade: numpy>=1.14.6 in c:\\users\\rafael\\miniconda3\\lib\\site-packages (from scikit-learn) (1.19.4)\n",
      "Installing collected packages: joblib, threadpoolctl, scikit-learn\n",
      "Successfully installed joblib-1.1.0 scikit-learn-1.0.2 threadpoolctl-3.0.0\n",
      "Note: you may need to restart the kernel to use updated packages.\n"
     ]
    }
   ],
   "source": [
    "pip install -U scikit-learn\n"
   ]
  },
  {
   "cell_type": "code",
   "execution_count": 85,
   "metadata": {},
   "outputs": [
    {
     "data": {
      "text/plain": [
       "LinearRegression()"
      ]
     },
     "execution_count": 85,
     "metadata": {},
     "output_type": "execute_result"
    }
   ],
   "source": [
    "from sklearn.linear_model import LinearRegression\n",
    "lm = LinearRegression(fit_intercept = True)\n",
    "lm.fit(X,y)"
   ]
  },
  {
   "cell_type": "code",
   "execution_count": 86,
   "metadata": {},
   "outputs": [
    {
     "data": {
      "text/plain": [
       "5.154077763777256"
      ]
     },
     "execution_count": 86,
     "metadata": {},
     "output_type": "execute_result"
    }
   ],
   "source": [
    "lm.intercept_"
   ]
  },
  {
   "cell_type": "code",
   "execution_count": 89,
   "metadata": {},
   "outputs": [
    {
     "data": {
      "text/plain": [
       "1.9999378989891399"
      ]
     },
     "execution_count": 89,
     "metadata": {},
     "output_type": "execute_result"
    }
   ],
   "source": [
    "lm.coef_[0]"
   ]
  },
  {
   "cell_type": "code",
   "execution_count": 90,
   "metadata": {},
   "outputs": [
    {
     "data": {
      "text/plain": [
       "-1.0202644869933362"
      ]
     },
     "execution_count": 90,
     "metadata": {},
     "output_type": "execute_result"
    }
   ],
   "source": [
    "lm.coef_[1]"
   ]
  },
  {
   "cell_type": "code",
   "execution_count": 88,
   "metadata": {},
   "outputs": [
    {
     "data": {
      "text/plain": [
       "array([ 1.9999379 , -1.02026449])"
      ]
     },
     "execution_count": 88,
     "metadata": {},
     "output_type": "execute_result"
    }
   ],
   "source": [
    "lm.coef_[:,]"
   ]
  },
  {
   "cell_type": "code",
   "execution_count": 96,
   "metadata": {},
   "outputs": [],
   "source": [
    "X_0 = np.array([2, 4]) # we put made up values of x1 = 2, x2 = 4 into an array X_0"
   ]
  },
  {
   "cell_type": "code",
   "execution_count": 97,
   "metadata": {},
   "outputs": [
    {
     "ename": "ValueError",
     "evalue": "Expected 2D array, got 1D array instead:\narray=[2 4].\nReshape your data either using array.reshape(-1, 1) if your data has a single feature or array.reshape(1, -1) if it contains a single sample.",
     "output_type": "error",
     "traceback": [
      "\u001b[1;31m---------------------------------------------------------------------------\u001b[0m",
      "\u001b[1;31mValueError\u001b[0m                                Traceback (most recent call last)",
      "\u001b[1;32m<ipython-input-97-12c11a73d818>\u001b[0m in \u001b[0;36m<module>\u001b[1;34m\u001b[0m\n\u001b[1;32m----> 1\u001b[1;33m \u001b[0mlm\u001b[0m\u001b[1;33m.\u001b[0m\u001b[0mpredict\u001b[0m\u001b[1;33m(\u001b[0m\u001b[0mX_0\u001b[0m\u001b[1;33m)\u001b[0m\u001b[1;33m\u001b[0m\u001b[1;33m\u001b[0m\u001b[0m\n\u001b[0m",
      "\u001b[1;32m~\\Miniconda3\\lib\\site-packages\\sklearn\\linear_model\\_base.py\u001b[0m in \u001b[0;36mpredict\u001b[1;34m(self, X)\u001b[0m\n\u001b[0;32m    360\u001b[0m             \u001b[0mReturns\u001b[0m \u001b[0mpredicted\u001b[0m \u001b[0mvalues\u001b[0m\u001b[1;33m.\u001b[0m\u001b[1;33m\u001b[0m\u001b[1;33m\u001b[0m\u001b[0m\n\u001b[0;32m    361\u001b[0m         \"\"\"\n\u001b[1;32m--> 362\u001b[1;33m         \u001b[1;32mreturn\u001b[0m \u001b[0mself\u001b[0m\u001b[1;33m.\u001b[0m\u001b[0m_decision_function\u001b[0m\u001b[1;33m(\u001b[0m\u001b[0mX\u001b[0m\u001b[1;33m)\u001b[0m\u001b[1;33m\u001b[0m\u001b[1;33m\u001b[0m\u001b[0m\n\u001b[0m\u001b[0;32m    363\u001b[0m \u001b[1;33m\u001b[0m\u001b[0m\n\u001b[0;32m    364\u001b[0m     \u001b[0m_preprocess_data\u001b[0m \u001b[1;33m=\u001b[0m \u001b[0mstaticmethod\u001b[0m\u001b[1;33m(\u001b[0m\u001b[0m_preprocess_data\u001b[0m\u001b[1;33m)\u001b[0m\u001b[1;33m\u001b[0m\u001b[1;33m\u001b[0m\u001b[0m\n",
      "\u001b[1;32m~\\Miniconda3\\lib\\site-packages\\sklearn\\linear_model\\_base.py\u001b[0m in \u001b[0;36m_decision_function\u001b[1;34m(self, X)\u001b[0m\n\u001b[0;32m    343\u001b[0m         \u001b[0mcheck_is_fitted\u001b[0m\u001b[1;33m(\u001b[0m\u001b[0mself\u001b[0m\u001b[1;33m)\u001b[0m\u001b[1;33m\u001b[0m\u001b[1;33m\u001b[0m\u001b[0m\n\u001b[0;32m    344\u001b[0m \u001b[1;33m\u001b[0m\u001b[0m\n\u001b[1;32m--> 345\u001b[1;33m         \u001b[0mX\u001b[0m \u001b[1;33m=\u001b[0m \u001b[0mself\u001b[0m\u001b[1;33m.\u001b[0m\u001b[0m_validate_data\u001b[0m\u001b[1;33m(\u001b[0m\u001b[0mX\u001b[0m\u001b[1;33m,\u001b[0m \u001b[0maccept_sparse\u001b[0m\u001b[1;33m=\u001b[0m\u001b[1;33m[\u001b[0m\u001b[1;34m\"csr\"\u001b[0m\u001b[1;33m,\u001b[0m \u001b[1;34m\"csc\"\u001b[0m\u001b[1;33m,\u001b[0m \u001b[1;34m\"coo\"\u001b[0m\u001b[1;33m]\u001b[0m\u001b[1;33m,\u001b[0m \u001b[0mreset\u001b[0m\u001b[1;33m=\u001b[0m\u001b[1;32mFalse\u001b[0m\u001b[1;33m)\u001b[0m\u001b[1;33m\u001b[0m\u001b[1;33m\u001b[0m\u001b[0m\n\u001b[0m\u001b[0;32m    346\u001b[0m         \u001b[1;32mreturn\u001b[0m \u001b[0msafe_sparse_dot\u001b[0m\u001b[1;33m(\u001b[0m\u001b[0mX\u001b[0m\u001b[1;33m,\u001b[0m \u001b[0mself\u001b[0m\u001b[1;33m.\u001b[0m\u001b[0mcoef_\u001b[0m\u001b[1;33m.\u001b[0m\u001b[0mT\u001b[0m\u001b[1;33m,\u001b[0m \u001b[0mdense_output\u001b[0m\u001b[1;33m=\u001b[0m\u001b[1;32mTrue\u001b[0m\u001b[1;33m)\u001b[0m \u001b[1;33m+\u001b[0m \u001b[0mself\u001b[0m\u001b[1;33m.\u001b[0m\u001b[0mintercept_\u001b[0m\u001b[1;33m\u001b[0m\u001b[1;33m\u001b[0m\u001b[0m\n\u001b[0;32m    347\u001b[0m \u001b[1;33m\u001b[0m\u001b[0m\n",
      "\u001b[1;32m~\\Miniconda3\\lib\\site-packages\\sklearn\\base.py\u001b[0m in \u001b[0;36m_validate_data\u001b[1;34m(self, X, y, reset, validate_separately, **check_params)\u001b[0m\n\u001b[0;32m    564\u001b[0m             \u001b[1;32mraise\u001b[0m \u001b[0mValueError\u001b[0m\u001b[1;33m(\u001b[0m\u001b[1;34m\"Validation should be done on X, y or both.\"\u001b[0m\u001b[1;33m)\u001b[0m\u001b[1;33m\u001b[0m\u001b[1;33m\u001b[0m\u001b[0m\n\u001b[0;32m    565\u001b[0m         \u001b[1;32melif\u001b[0m \u001b[1;32mnot\u001b[0m \u001b[0mno_val_X\u001b[0m \u001b[1;32mand\u001b[0m \u001b[0mno_val_y\u001b[0m\u001b[1;33m:\u001b[0m\u001b[1;33m\u001b[0m\u001b[1;33m\u001b[0m\u001b[0m\n\u001b[1;32m--> 566\u001b[1;33m             \u001b[0mX\u001b[0m \u001b[1;33m=\u001b[0m \u001b[0mcheck_array\u001b[0m\u001b[1;33m(\u001b[0m\u001b[0mX\u001b[0m\u001b[1;33m,\u001b[0m \u001b[1;33m**\u001b[0m\u001b[0mcheck_params\u001b[0m\u001b[1;33m)\u001b[0m\u001b[1;33m\u001b[0m\u001b[1;33m\u001b[0m\u001b[0m\n\u001b[0m\u001b[0;32m    567\u001b[0m             \u001b[0mout\u001b[0m \u001b[1;33m=\u001b[0m \u001b[0mX\u001b[0m\u001b[1;33m\u001b[0m\u001b[1;33m\u001b[0m\u001b[0m\n\u001b[0;32m    568\u001b[0m         \u001b[1;32melif\u001b[0m \u001b[0mno_val_X\u001b[0m \u001b[1;32mand\u001b[0m \u001b[1;32mnot\u001b[0m \u001b[0mno_val_y\u001b[0m\u001b[1;33m:\u001b[0m\u001b[1;33m\u001b[0m\u001b[1;33m\u001b[0m\u001b[0m\n",
      "\u001b[1;32m~\\Miniconda3\\lib\\site-packages\\sklearn\\utils\\validation.py\u001b[0m in \u001b[0;36mcheck_array\u001b[1;34m(array, accept_sparse, accept_large_sparse, dtype, order, copy, force_all_finite, ensure_2d, allow_nd, ensure_min_samples, ensure_min_features, estimator)\u001b[0m\n\u001b[0;32m    771\u001b[0m                     \u001b[1;34m\"Reshape your data either using array.reshape(-1, 1) if \"\u001b[0m\u001b[1;33m\u001b[0m\u001b[1;33m\u001b[0m\u001b[0m\n\u001b[0;32m    772\u001b[0m                     \u001b[1;34m\"your data has a single feature or array.reshape(1, -1) \"\u001b[0m\u001b[1;33m\u001b[0m\u001b[1;33m\u001b[0m\u001b[0m\n\u001b[1;32m--> 773\u001b[1;33m                     \u001b[1;34m\"if it contains a single sample.\"\u001b[0m\u001b[1;33m.\u001b[0m\u001b[0mformat\u001b[0m\u001b[1;33m(\u001b[0m\u001b[0marray\u001b[0m\u001b[1;33m)\u001b[0m\u001b[1;33m\u001b[0m\u001b[1;33m\u001b[0m\u001b[0m\n\u001b[0m\u001b[0;32m    774\u001b[0m                 )\n\u001b[0;32m    775\u001b[0m \u001b[1;33m\u001b[0m\u001b[0m\n",
      "\u001b[1;31mValueError\u001b[0m: Expected 2D array, got 1D array instead:\narray=[2 4].\nReshape your data either using array.reshape(-1, 1) if your data has a single feature or array.reshape(1, -1) if it contains a single sample."
     ]
    }
   ],
   "source": [
    "lm.predict(X_0)"
   ]
  },
  {
   "cell_type": "code",
   "execution_count": 98,
   "metadata": {},
   "outputs": [
    {
     "data": {
      "text/plain": [
       "array([5.07289561])"
      ]
     },
     "execution_count": 98,
     "metadata": {},
     "output_type": "execute_result"
    }
   ],
   "source": [
    "lm.predict(X_0.reshape(1, -1))"
   ]
  },
  {
   "cell_type": "code",
   "execution_count": 99,
   "metadata": {},
   "outputs": [
    {
     "data": {
      "text/plain": [
       "0.9798997316600129"
      ]
     },
     "execution_count": 99,
     "metadata": {},
     "output_type": "execute_result"
    }
   ],
   "source": [
    "lm.score(X, y) # gives out the R square"
   ]
  },
  {
   "cell_type": "markdown",
   "metadata": {},
   "source": [
    "# 5.1.8: Assessing Model Accuracy"
   ]
  },
  {
   "cell_type": "markdown",
   "metadata": {},
   "source": [
    "In the regression setting, the most commonly used measure\n",
    "is the mean squared error, or MSE.\n",
    "\n",
    "We can obtain estimates of test error by dividing our data set into two parts--\n",
    "the training data and the test data.\n",
    "And we use the training data only to train the model.\n",
    "Once the model has been fitted, we can now\n",
    "test its accuracy using the test data, which was not\n",
    "in any way used to train the model."
   ]
  },
  {
   "cell_type": "code",
   "execution_count": 100,
   "metadata": {},
   "outputs": [],
   "source": [
    "from sklearn.model_selection import train_test_split\n",
    "# This is the function that we'll be using to split a data set into training data and test data."
   ]
  },
  {
   "cell_type": "code",
   "execution_count": 101,
   "metadata": {},
   "outputs": [],
   "source": [
    "X_train, X_test, y_train, y_test = train_test_split(X, y, train_size = 0.5, random_state = 1) # xvar, yvar, proportion, randseed"
   ]
  },
  {
   "cell_type": "code",
   "execution_count": 102,
   "metadata": {},
   "outputs": [],
   "source": [
    "lm = LinearRegression(fit_intercept = True)"
   ]
  },
  {
   "cell_type": "code",
   "execution_count": 103,
   "metadata": {},
   "outputs": [
    {
     "data": {
      "text/plain": [
       "LinearRegression()"
      ]
     },
     "execution_count": 103,
     "metadata": {},
     "output_type": "execute_result"
    }
   ],
   "source": [
    "lm.fit(X_train, y_train) # fit linear model using training data set"
   ]
  },
  {
   "cell_type": "code",
   "execution_count": 104,
   "metadata": {},
   "outputs": [
    {
     "data": {
      "text/plain": [
       "0.9794930834681773"
      ]
     },
     "execution_count": 104,
     "metadata": {},
     "output_type": "execute_result"
    }
   ],
   "source": [
    "lm.score(X_test, y_test)"
   ]
  },
  {
   "cell_type": "markdown",
   "metadata": {},
   "source": [
    "When evaluating the performance of a model in a regression setting on test data, which measure is most appropriate?\n",
    "Answer: Test MSE\n",
    "\n",
    "When evaluating the performance of a model in a classification setting on test data, which measure is most appropriate?\n",
    "Answer: Test error rate\n",
    "\n",
    "How do we expect an model that was overfit on the training data to perform on testing data?\n",
    "Answer: It will likely perform worse on the testing data.\n",
    "\n",
    "What is the primary motivation for splitting our model into training and testing data?\n",
    "Answer: By evaluating how our model fits on unseen data, we can see how generalizable it is.\n",
    "\n"
   ]
  }
 ],
 "metadata": {
  "kernelspec": {
   "display_name": "Python 3 (ipykernel)",
   "language": "python",
   "name": "python3"
  },
  "language_info": {
   "codemirror_mode": {
    "name": "ipython",
    "version": 3
   },
   "file_extension": ".py",
   "mimetype": "text/x-python",
   "name": "python",
   "nbconvert_exporter": "python",
   "pygments_lexer": "ipython3",
   "version": "3.7.9"
  }
 },
 "nbformat": 4,
 "nbformat_minor": 4
}
