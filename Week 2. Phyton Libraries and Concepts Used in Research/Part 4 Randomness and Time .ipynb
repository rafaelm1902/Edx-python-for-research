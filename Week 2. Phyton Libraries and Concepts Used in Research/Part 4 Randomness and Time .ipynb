{
 "cells": [
  {
   "cell_type": "markdown",
   "metadata": {},
   "source": [
    "# 2.4.1: Simulating Randomness"
   ]
  },
  {
   "cell_type": "code",
   "execution_count": 55,
   "metadata": {},
   "outputs": [
    {
     "data": {
      "text/plain": [
       "'H'"
      ]
     },
     "execution_count": 55,
     "metadata": {},
     "output_type": "execute_result"
    }
   ],
   "source": [
    "# Flip a single coin\n",
    "\n",
    "import random\n",
    "\n",
    "random.choice([\"H\", \"T\"]) # choice functions picks out a random choice from the sequence"
   ]
  },
  {
   "cell_type": "code",
   "execution_count": 56,
   "metadata": {},
   "outputs": [
    {
     "data": {
      "text/plain": [
       "1"
      ]
     },
     "execution_count": 56,
     "metadata": {},
     "output_type": "execute_result"
    }
   ],
   "source": [
    "# Often it's more useful, however, to re-label the side of the coin with 0 to 1.\n",
    "\n",
    "random.choice([0, 1])"
   ]
  },
  {
   "cell_type": "code",
   "execution_count": 59,
   "metadata": {},
   "outputs": [
    {
     "data": {
      "text/plain": [
       "6"
      ]
     },
     "execution_count": 59,
     "metadata": {},
     "output_type": "execute_result"
    }
   ],
   "source": [
    "# simulate the role of a die\n",
    "random.choice([1,2,3,4,5,6])"
   ]
  },
  {
   "cell_type": "code",
   "execution_count": 60,
   "metadata": {},
   "outputs": [
    {
     "data": {
      "text/plain": [
       "3"
      ]
     },
     "execution_count": 60,
     "metadata": {},
     "output_type": "execute_result"
    }
   ],
   "source": [
    "# We could also implement this using a range object. We just have to be careful when specifying the start and stop values.\n",
    "\n",
    "random.choice(range(1,7)) # starting value = 1,stopping value = 7(remeber only the number before the stopping value will show.)"
   ]
  },
  {
   "cell_type": "markdown",
   "metadata": {},
   "source": [
    "When you explore the documentation for random choice, you'll find that you don't necessarily need to provide a list.\n",
    "Instead, any sequence object will do. And because range is a sequence object, you can provide that as an argument\n",
    "to the choice function."
   ]
  },
  {
   "cell_type": "code",
   "execution_count": 61,
   "metadata": {},
   "outputs": [
    {
     "data": {
      "text/plain": [
       "range(1, 7)"
      ]
     },
     "execution_count": 61,
     "metadata": {},
     "output_type": "execute_result"
    }
   ],
   "source": [
    "# if you had used the following line.Taking the previous example, I'm just going to insert my range object inside a list object.\n",
    "# I'm then going to run this line. See what's happening?\n",
    "\n",
    "random.choice([range(1,7)]) # this list only contains one object, and so the choice will always be the same"
   ]
  },
  {
   "cell_type": "code",
   "execution_count": null,
   "metadata": {},
   "outputs": [],
   "source": [
    "Imagine a situation where you have three dice, one of them having six faces,\n",
    "one of them having eight faces, and one of them having ten faces.\n",
    "How could you simulate one outcome for a process, where one of these dice,\n",
    "chosen uniformly at random, is rolled just one time?"
   ]
  },
  {
   "cell_type": "code",
   "execution_count": 63,
   "metadata": {},
   "outputs": [
    {
     "data": {
      "text/plain": [
       "range(1, 11)"
      ]
     },
     "execution_count": 63,
     "metadata": {},
     "output_type": "execute_result"
    }
   ],
   "source": [
    "random.choice([range(1,7), range(1,9), range(1,11)]) # this will let us pick from which die to roll from"
   ]
  },
  {
   "cell_type": "code",
   "execution_count": 64,
   "metadata": {},
   "outputs": [
    {
     "data": {
      "text/plain": [
       "5"
      ]
     },
     "execution_count": 64,
     "metadata": {},
     "output_type": "execute_result"
    }
   ],
   "source": [
    "random.choice(random.choice([range(1,7), range(1,9), range(1,11)]))\n",
    "\n",
    "# So we can embed the code we have inside another random choice function. In this case, we're first picking one range object.\n",
    "# And then we're calling random choice on whichever range object we happened to pick.\n",
    "# And in this case, we get an outcome that corresponds to the process that we wanted."
   ]
  },
  {
   "cell_type": "code",
   "execution_count": 65,
   "metadata": {},
   "outputs": [
    {
     "data": {
      "text/plain": [
       "3"
      ]
     },
     "execution_count": 65,
     "metadata": {},
     "output_type": "execute_result"
    }
   ],
   "source": [
    "random.choice(list([1,2,3,4]))"
   ]
  },
  {
   "cell_type": "code",
   "execution_count": 66,
   "metadata": {},
   "outputs": [
    {
     "data": {
      "text/plain": [
       "47"
      ]
     },
     "execution_count": 66,
     "metadata": {},
     "output_type": "execute_result"
    }
   ],
   "source": [
    "# Which of the following lines of code takes the sum of 10 random integers between 0 and 9?\n",
    "\n",
    "sum(random.choice(range(10)) for i in range(10))"
   ]
  },
  {
   "cell_type": "markdown",
   "metadata": {},
   "source": [
    "# 2.4.2: Examples Involving Randomness"
   ]
  },
  {
   "cell_type": "markdown",
   "metadata": {},
   "source": [
    "Our first example is to roll the die 100 times and plot a histogram of the outcomes, meaning\n",
    "a histogram that shows how frequent the numbers from 1 to 6 appeared in the 100 samples."
   ]
  },
  {
   "cell_type": "code",
   "execution_count": null,
   "metadata": {},
   "outputs": [],
   "source": [
    "import random\n",
    "\n",
    "random.choice([1,2,3,4,5,6])\n",
    "\n",
    "#Because we want to repeat the rolling of a single die 100 times, this seems to call for a for loop.\n",
    "\n",
    "for k in range(100): # In this case, what we're doing is we're rolling a die 100 times.\n",
    "    random.choice([1,2,3,4,5,6]) # But we're not storing the results anywhere.\n",
    "    \n",
    "# It appears that we need some variable that will contain the results, will hold the results, from each of the 100 die rolls.\n",
    "# I'm going to call that rolls.\n",
    "\n",
    "rolls = [] # it is built as an empty list\n",
    "\n",
    "rolls.append(random.choice([1,2,3,4,5,6])) # Every time I roll a die, I'd like to be able to append the new roll to my rolls\n",
    "# list.  What gets appended is the outcome of a new die roll.\n",
    "\n",
    "# Now lets combine the code"
   ]
  },
  {
   "cell_type": "code",
   "execution_count": 67,
   "metadata": {},
   "outputs": [],
   "source": [
    "rolls = []\n",
    "for k in range(100):\n",
    "    rolls.append(random.choice([1,2,3,4,5,6])) "
   ]
  },
  {
   "cell_type": "code",
   "execution_count": 68,
   "metadata": {},
   "outputs": [
    {
     "data": {
      "text/plain": [
       "100"
      ]
     },
     "execution_count": 68,
     "metadata": {},
     "output_type": "execute_result"
    }
   ],
   "source": [
    "len(rolls) # now we have the 100 rolls"
   ]
  },
  {
   "cell_type": "code",
   "execution_count": 73,
   "metadata": {},
   "outputs": [
    {
     "data": {
      "image/png": "[encoded data removed]",
      "text/plain": [
       "<Figure size 432x288 with 1 Axes>"
      ]
     },
     "metadata": {
      "needs_background": "light"
     },
     "output_type": "display_data"
    }
   ],
   "source": [
    "plt.hist(rolls, bins = np.linspace(.5, 6.5,7)); # starting point (.5), ending point(6.5), # of bins (7 since we need 6)\n"
   ]
  },
  {
   "cell_type": "code",
   "execution_count": 77,
   "metadata": {},
   "outputs": [
    {
     "data": {
      "image/png": "[encoded data removed]",
      "text/plain": [
       "<Figure size 432x288 with 1 Axes>"
      ]
     },
     "metadata": {
      "needs_background": "light"
     },
     "output_type": "display_data"
    }
   ],
   "source": [
    "rolls = []\n",
    "for k in range(1000):\n",
    "    rolls.append(random.choice([1,2,3,4,5,6])) \n",
    "    \n",
    "plt.hist(rolls, bins = np.linspace(.5, 6.5,7));\n",
    "\n",
    "# wiht 1000 observations, following the law of large number we see a pretty flat distribution since all outcome are \n",
    "# equally likely"
   ]
  },
  {
   "cell_type": "code",
   "execution_count": 78,
   "metadata": {},
   "outputs": [
    {
     "data": {
      "image/png": "[encoded data removed]",
      "text/plain": [
       "<Figure size 432x288 with 1 Axes>"
      ]
     },
     "metadata": {
      "needs_background": "light"
     },
     "output_type": "display_data"
    }
   ],
   "source": [
    "rolls = []\n",
    "for k in range(1000000):\n",
    "    rolls.append(random.choice([1,2,3,4,5,6])) \n",
    "    \n",
    "plt.hist(rolls, bins = np.linspace(.5, 6.5,7));\n",
    "\n",
    "# with one million roles the histogram is flat"
   ]
  },
  {
   "cell_type": "markdown",
   "metadata": {},
   "source": [
    "Considering now rolling not one die, but 10 independent dies denoted with x1 to x10.\n",
    "We're going to define a new random variable called y, which is the sum of all of the 10x variables.\n",
    "In other words, our new random variable y is going to be equal to x1 plus x2 plus all the way up to x10.\n",
    "We'd like to understand the distribution of the random variable y\n",
    "\n",
    "it's useful to think about what you would expect the result to be. First, since each x variable is at least 1, and we're summing 10 of them together, the least value y can assume is 10. By similar logic, the greatest value of y is 60.\n",
    "Let's now think about these two extremes-- say, the number 60. The only way that can occur if all 10 dice give a 6, which is very unlikely. But if we think about some intermediate value such as number 30, there are many combinations of die rolls that could give us that value. Because rolling 10 6s is just as likely or unlikely as rolling 10 1s, or 10 of anything, we would expect the histogram to peak at the center. And we'd also expect it to be very thin towards the ends\n",
    "as we get closer to either 10 or 60."
   ]
  },
  {
   "cell_type": "code",
   "execution_count": 96,
   "metadata": {},
   "outputs": [
    {
     "name": "stdout",
     "output_type": "stream",
     "text": [
      "31\n"
     ]
    }
   ],
   "source": [
    "y = 0\n",
    "for k in range(10):\n",
    "    x = random.choice([1,2,3,4,5,6])\n",
    "    y = y + x\n",
    "\n",
    "print(y)\n",
    "# this is the equivalent of rolling a die 10 times, and adding the results"
   ]
  },
  {
   "cell_type": "code",
   "execution_count": 98,
   "metadata": {},
   "outputs": [],
   "source": [
    "# Let's then see how we can roll this die multiple times\n",
    "\n",
    "ys = []\n",
    "\n",
    "for rep in range(100):\n",
    "    y = 0\n",
    "    for k in range(10):\n",
    "        x = random.choice([1,2,3,4,5,6])\n",
    "        y = y + x\n",
    "    ys.append(y) # need to de-indent this line. Now we only append y once we've rolled the die 10 times.\n",
    "\n",
    "# run the outer loop 100 time, and for each time, I want to run the inner loop 10 times.    "
   ]
  },
  {
   "cell_type": "code",
   "execution_count": 106,
   "metadata": {},
   "outputs": [
    {
     "data": {
      "text/plain": [
       "100"
      ]
     },
     "execution_count": 106,
     "metadata": {},
     "output_type": "execute_result"
    }
   ],
   "source": [
    "len(ys) # we have the 100 observations"
   ]
  },
  {
   "cell_type": "code",
   "execution_count": 108,
   "metadata": {},
   "outputs": [
    {
     "data": {
      "image/png": "[encoded data removed]",
      "text/plain": [
       "<Figure size 432x288 with 1 Axes>"
      ]
     },
     "metadata": {
      "needs_background": "light"
     },
     "output_type": "display_data"
    }
   ],
   "source": [
    "plt.hist(ys);"
   ]
  },
  {
   "cell_type": "code",
   "execution_count": 110,
   "metadata": {},
   "outputs": [
    {
     "data": {
      "image/png": "[encoded data removed]",
      "text/plain": [
       "<Figure size 432x288 with 1 Axes>"
      ]
     },
     "metadata": {
      "needs_background": "light"
     },
     "output_type": "display_data"
    }
   ],
   "source": [
    "ys = []\n",
    "\n",
    "for rep in range(1000000):\n",
    "    y = 0\n",
    "    for k in range(10):\n",
    "        x = random.choice([1,2,3,4,5,6])\n",
    "        y = y + x\n",
    "    ys.append(y) \n",
    "    \n",
    "plt.hist(ys);\n",
    "\n",
    "# The so-called central limit theorem, or CLT, states that the sum of a large number of random variables\n",
    "# regardless of their distribution will approximately follow a normal distribution."
   ]
  },
  {
   "cell_type": "markdown",
   "metadata": {},
   "source": [
    "You can sum together many random variables whose distribution is nothing like a normal distribution like die rolls, or even coin flips. And yet, the distribution of the sum will get closer and closer to a normal distribution as the number of random variables that are added together increases. The central limit theorem not only helps us understand our simulation results,but it also explains why the normal distribution, sometimes called a Gaussian distribution, occurs so often."
   ]
  },
  {
   "cell_type": "code",
   "execution_count": 111,
   "metadata": {},
   "outputs": [
    {
     "data": {
      "text/plain": [
       "3"
      ]
     },
     "execution_count": 111,
     "metadata": {},
     "output_type": "execute_result"
    }
   ],
   "source": [
    "random.choice(list((1,2,3,4)))"
   ]
  },
  {
   "cell_type": "markdown",
   "metadata": {},
   "source": [
    "What will random.choice(list((1,2,3,4))) do?\n",
    "\n",
    "Sample from the list [1,2,3,4]\n",
    "\n",
    "Explanation\n",
    "\n",
    "Although list() and [] both represent lists, list((1,2,3,4)) casts the tuple as a list. random.choice then samples from the elements in the list."
   ]
  },
  {
   "cell_type": "markdown",
   "metadata": {},
   "source": [
    "# 2.4.3: Using the NumPy Random Module"
   ]
  },
  {
   "cell_type": "markdown",
   "metadata": {},
   "source": [
    "NumPy makes it possible to generate all kinds of random variables."
   ]
  },
  {
   "cell_type": "code",
   "execution_count": 112,
   "metadata": {},
   "outputs": [
    {
     "data": {
      "text/plain": [
       "0.3010222347259297"
      ]
     },
     "execution_count": 112,
     "metadata": {},
     "output_type": "execute_result"
    }
   ],
   "source": [
    "# Let's start with generating numbers from the standard uniform distribution, which is a the completely\n",
    "# flat distribution between 0 and 1 such that any floating point number between these two endpoints is equally likely.\n",
    "\n",
    "np.random.random() # this enables us to generate one realization from the 0 1 uniform distribution."
   ]
  },
  {
   "cell_type": "code",
   "execution_count": 113,
   "metadata": {},
   "outputs": [
    {
     "data": {
      "text/plain": [
       "array([0.57811391, 0.31308637, 0.27961228, 0.24358162, 0.08558814])"
      ]
     },
     "execution_count": 113,
     "metadata": {},
     "output_type": "execute_result"
    }
   ],
   "source": [
    "# We can use the same function to generate multiple realizations or an array of random numbers from the same distribution.\n",
    "\n",
    "np.random.random(5)"
   ]
  },
  {
   "cell_type": "code",
   "execution_count": 114,
   "metadata": {},
   "outputs": [
    {
     "data": {
      "text/plain": [
       "array([[0.22282348, 0.09065112, 0.22227393],\n",
       "       [0.30332863, 0.67935063, 0.79827299],\n",
       "       [0.446279  , 0.27496446, 0.23298749],\n",
       "       [0.6447038 , 0.7717377 , 0.38830379],\n",
       "       [0.13768362, 0.76238969, 0.61871426]])"
      ]
     },
     "execution_count": 114,
     "metadata": {},
     "output_type": "execute_result"
    }
   ],
   "source": [
    "# It's also possible to use the same function to generate a 2d array of random numbers\n",
    "\n",
    "np.random.random((5,3)) # as a tuple () we insert the # of rows and # of columns"
   ]
  },
  {
   "cell_type": "code",
   "execution_count": 115,
   "metadata": {},
   "outputs": [
    {
     "data": {
      "text/plain": [
       "-0.7892253778071983"
      ]
     },
     "execution_count": 115,
     "metadata": {},
     "output_type": "execute_result"
    }
   ],
   "source": [
    "# Let's then look at the normal distribution.\n",
    "# It requires the mean and the standard deviation as its input parameters.\n",
    "# In this case, I'd like to set the mean to be equal to 0, and standard deviation equal to 1.\n",
    "\n",
    "np.random.normal(0, 1,) # draws one number, from the standard normal distribution."
   ]
  },
  {
   "cell_type": "code",
   "execution_count": 116,
   "metadata": {},
   "outputs": [
    {
     "data": {
      "text/plain": [
       "array([-0.51569098, -1.14789911,  2.67655133,  0.18722663, -0.13007798])"
      ]
     },
     "execution_count": 116,
     "metadata": {},
     "output_type": "execute_result"
    }
   ],
   "source": [
    "# If we'd like to generate instead a 1d array of numbers from the same distribution,\n",
    "# we can specify the length of the 1d array as the third argument.\n",
    "\n",
    "np.random.normal(0, 1, 5) # an array of 5 numbers from the normal distribution"
   ]
  },
  {
   "cell_type": "code",
   "execution_count": 117,
   "metadata": {},
   "outputs": [
    {
     "data": {
      "text/plain": [
       "array([[ 0.60538952, -0.81391943,  1.00441785,  1.43726554, -0.67459336],\n",
       "       [ 0.88665195,  0.92840676, -0.31134998, -0.46123922, -0.27514235]])"
      ]
     },
     "execution_count": 117,
     "metadata": {},
     "output_type": "execute_result"
    }
   ],
   "source": [
    "# Finally, we can use the same function to generate 2d, or even 3d arrays of random numbers.\n",
    "\n",
    "np.random.normal(0, 1, (2,5)) # again 2 by 5 goes inside tuple"
   ]
  },
  {
   "cell_type": "code",
   "execution_count": 121,
   "metadata": {},
   "outputs": [
    {
     "data": {
      "text/plain": [
       "array([[6, 2, 5],\n",
       "       [5, 3, 1],\n",
       "       [3, 1, 2],\n",
       "       [1, 2, 5],\n",
       "       [5, 4, 3],\n",
       "       [3, 3, 3],\n",
       "       [5, 6, 1],\n",
       "       [3, 4, 3],\n",
       "       [6, 4, 1],\n",
       "       [1, 2, 3]])"
      ]
     },
     "execution_count": 121,
     "metadata": {},
     "output_type": "execute_result"
    }
   ],
   "source": [
    "# To generate an area of random integers in NumPy, we use np.random.randint\n",
    "\n",
    "X = np.random.randint(1, 7, (10,3)) # start point, end point and size of the array, 10 rows and 3 columns\n",
    "X"
   ]
  },
  {
   "cell_type": "code",
   "execution_count": 122,
   "metadata": {},
   "outputs": [
    {
     "data": {
      "text/plain": [
       "(10, 3)"
      ]
     },
     "execution_count": 122,
     "metadata": {},
     "output_type": "execute_result"
    }
   ],
   "source": [
    "X.shape # checks the shape of the array"
   ]
  },
  {
   "cell_type": "code",
   "execution_count": 123,
   "metadata": {},
   "outputs": [
    {
     "data": {
      "text/plain": [
       "96"
      ]
     },
     "execution_count": 123,
     "metadata": {},
     "output_type": "execute_result"
    }
   ],
   "source": [
    "np.sum(X) # we get a sum of all of the elements of X"
   ]
  },
  {
   "cell_type": "code",
   "execution_count": 124,
   "metadata": {},
   "outputs": [
    {
     "data": {
      "text/plain": [
       "array([38, 31, 27])"
      ]
     },
     "execution_count": 124,
     "metadata": {},
     "output_type": "execute_result"
    }
   ],
   "source": [
    "np.sum(X, axis=0) # we are summing eache element in each row of the array. or summing the column vetically"
   ]
  },
  {
   "cell_type": "code",
   "execution_count": 125,
   "metadata": {},
   "outputs": [
    {
     "data": {
      "text/plain": [
       "array([13,  9,  6,  8, 12,  9, 12, 10, 11,  6])"
      ]
     },
     "execution_count": 125,
     "metadata": {},
     "output_type": "execute_result"
    }
   ],
   "source": [
    "np.sum(X, axis=1) # we are summing the rows horizontally"
   ]
  },
  {
   "cell_type": "code",
   "execution_count": 126,
   "metadata": {},
   "outputs": [
    {
     "data": {
      "text/plain": [
       "array([13,  9,  6,  8, 12,  9, 12, 10, 11,  6])"
      ]
     },
     "execution_count": 126,
     "metadata": {},
     "output_type": "execute_result"
    }
   ],
   "source": [
    "Y = np.sum(X, axis = 1)\n",
    "Y"
   ]
  },
  {
   "cell_type": "code",
   "execution_count": 130,
   "metadata": {},
   "outputs": [
    {
     "data": {
      "image/png": "[encoded data removed]",
      "text/plain": [
       "<Figure size 432x288 with 1 Axes>"
      ]
     },
     "metadata": {
      "needs_background": "light"
     },
     "output_type": "display_data"
    }
   ],
   "source": [
    "X = np.random.randint(1,7,(1000000,10))\n",
    "Y = np.sum(X, axis = 1)\n",
    "plt.hist(Y);"
   ]
  },
  {
   "cell_type": "code",
   "execution_count": null,
   "metadata": {},
   "outputs": [],
   "source": [
    "Generally, using NumPy can result in code\n",
    "that runs over 10 times faster than standard Python code.\n",
    "In scientific computation, this makes a big difference."
   ]
  },
  {
   "cell_type": "code",
   "execution_count": 132,
   "metadata": {},
   "outputs": [
    {
     "data": {
      "text/plain": [
       "array([[[0.10644115, 0.81317771, 0.58687235],\n",
       "        [0.13076508, 0.14555371, 0.26710555]],\n",
       "\n",
       "       [[0.09259847, 0.26501116, 0.0341939 ],\n",
       "        [0.57615912, 0.58067067, 0.48286957]],\n",
       "\n",
       "       [[0.44442191, 0.33116666, 0.48156262],\n",
       "        [0.92740075, 0.22471942, 0.02038928]],\n",
       "\n",
       "       [[0.05900447, 0.53868171, 0.67374729],\n",
       "        [0.61963907, 0.86183928, 0.94492298]],\n",
       "\n",
       "       [[0.42889139, 0.78091412, 0.55724489],\n",
       "        [0.36362883, 0.62434823, 0.0150752 ]]])"
      ]
     },
     "execution_count": 132,
     "metadata": {},
     "output_type": "execute_result"
    }
   ],
   "source": [
    "np.random.random((5,2,3))\n",
    "\n",
    "# Generates a 5 x 2 x 3 NumPy array with random uniform values."
   ]
  },
  {
   "cell_type": "code",
   "execution_count": 135,
   "metadata": {},
   "outputs": [
    {
     "data": {
      "text/plain": [
       "array([[2, 4, 4],\n",
       "       [4, 2, 3]])"
      ]
     },
     "execution_count": 135,
     "metadata": {},
     "output_type": "execute_result"
    }
   ],
   "source": [
    "np.random.randint(1,5,(2,3))\n",
    "\n",
    "# Generates a 2 x 3 array with random integers from 1-4"
   ]
  },
  {
   "cell_type": "code",
   "execution_count": null,
   "metadata": {},
   "outputs": [],
   "source": [
    "# What is the dimension of numpy.sum(numpy.random.randint(1,7,(100,10)), axis=0)\n",
    "# 10"
   ]
  },
  {
   "cell_type": "code",
   "execution_count": 139,
   "metadata": {},
   "outputs": [
    {
     "data": {
      "text/plain": [
       "array([340, 343, 315, 345, 373, 345, 354, 354, 393, 353])"
      ]
     },
     "execution_count": 139,
     "metadata": {},
     "output_type": "execute_result"
    }
   ],
   "source": [
    "np.sum(np.random.randint(1,7,(100,10)), axis=0)"
   ]
  },
  {
   "cell_type": "markdown",
   "metadata": {},
   "source": [
    "# 2.4.4: Measuring Time"
   ]
  },
  {
   "cell_type": "markdown",
   "metadata": {},
   "source": [
    "It is often helpful to be able to measure how long a segment of code takes to run.\n",
    "One reason for wanting to know might be that you have two or more ways of coding up the same task and you'd like to know which one is faster.\n",
    "\n",
    "Another reason might be that you have a large dataset and you'd like to have a sense ahead of time\n",
    "how long it might take to run your code."
   ]
  },
  {
   "cell_type": "code",
   "execution_count": 143,
   "metadata": {},
   "outputs": [
    {
     "name": "stderr",
     "output_type": "stream",
     "text": [
      "C:\\Users\\Rafael\\Miniconda3\\lib\\site-packages\\ipykernel_launcher.py:5: DeprecationWarning: time.clock has been deprecated in Python 3.3 and will be removed from Python 3.8: use time.perf_counter or time.process_time instead\n",
      "  \"\"\"\n",
      "C:\\Users\\Rafael\\Miniconda3\\lib\\site-packages\\ipykernel_launcher.py:7: DeprecationWarning: time.clock has been deprecated in Python 3.3 and will be removed from Python 3.8: use time.perf_counter or time.process_time instead\n",
      "  import sys\n"
     ]
    },
    {
     "data": {
      "text/plain": [
       "0.00010649999967426993"
      ]
     },
     "execution_count": 143,
     "metadata": {},
     "output_type": "execute_result"
    }
   ],
   "source": [
    "# One of the most useful functions in the time module is the time.clock function. That gives us the current time.\n",
    "\n",
    "import time\n",
    "\n",
    "start_time = time.clock()\n",
    "\n",
    "end_time = time.clock()\n",
    "\n",
    "end_time - start_time"
   ]
  },
  {
   "cell_type": "code",
   "execution_count": 144,
   "metadata": {},
   "outputs": [
    {
     "name": "stderr",
     "output_type": "stream",
     "text": [
      "C:\\Users\\Rafael\\Miniconda3\\lib\\site-packages\\ipykernel_launcher.py:1: DeprecationWarning: time.clock has been deprecated in Python 3.3 and will be removed from Python 3.8: use time.perf_counter or time.process_time instead\n",
      "  \"\"\"Entry point for launching an IPython kernel.\n"
     ]
    },
    {
     "name": "stdout",
     "output_type": "stream",
     "text": [
      "8.847554100000707\n"
     ]
    },
    {
     "name": "stderr",
     "output_type": "stream",
     "text": [
      "C:\\Users\\Rafael\\Miniconda3\\lib\\site-packages\\ipykernel_launcher.py:11: DeprecationWarning: time.clock has been deprecated in Python 3.3 and will be removed from Python 3.8: use time.perf_counter or time.process_time instead\n",
      "  # This is added back by InteractiveShellApp.init_path()\n"
     ]
    }
   ],
   "source": [
    "start_time = time.clock()\n",
    "ys = []\n",
    "\n",
    "for rep in range(1000000):\n",
    "    y = 0\n",
    "    for k in range(10):\n",
    "        x = random.choice([1,2,3,4,5,6])\n",
    "        y = y + x\n",
    "    ys.append(y)\n",
    "\n",
    "end_time = time.clock()\n",
    "print(end_time - start_time)"
   ]
  },
  {
   "cell_type": "code",
   "execution_count": 145,
   "metadata": {},
   "outputs": [
    {
     "name": "stdout",
     "output_type": "stream",
     "text": [
      "0.12390029999914987\n"
     ]
    },
    {
     "name": "stderr",
     "output_type": "stream",
     "text": [
      "C:\\Users\\Rafael\\Miniconda3\\lib\\site-packages\\ipykernel_launcher.py:1: DeprecationWarning: time.clock has been deprecated in Python 3.3 and will be removed from Python 3.8: use time.perf_counter or time.process_time instead\n",
      "  \"\"\"Entry point for launching an IPython kernel.\n",
      "C:\\Users\\Rafael\\Miniconda3\\lib\\site-packages\\ipykernel_launcher.py:6: DeprecationWarning: time.clock has been deprecated in Python 3.3 and will be removed from Python 3.8: use time.perf_counter or time.process_time instead\n",
      "  \n"
     ]
    }
   ],
   "source": [
    "start_time = time.clock()\n",
    "\n",
    "X = np.random.randint(1,7,(1000000,10))\n",
    "Y = np.sum(X, axis = 1)\n",
    "\n",
    "end_time = time.clock()\n",
    "print(end_time - start_time)"
   ]
  },
  {
   "cell_type": "code",
   "execution_count": 146,
   "metadata": {},
   "outputs": [
    {
     "data": {
      "text/plain": [
       "71.40865760665159"
      ]
     },
     "execution_count": 146,
     "metadata": {},
     "output_type": "execute_result"
    }
   ],
   "source": [
    "8.847554100000707/0.12390029999914987\n",
    "\n",
    "# In this case, we see that the NumPy implementation is over 70 times faster\n",
    "# than the Python-based implementation."
   ]
  },
  {
   "cell_type": "code",
   "execution_count": 147,
   "metadata": {},
   "outputs": [
    {
     "name": "stderr",
     "output_type": "stream",
     "text": [
      "C:\\Users\\Rafael\\Miniconda3\\lib\\site-packages\\ipykernel_launcher.py:1: DeprecationWarning: time.clock has been deprecated in Python 3.3 and will be removed from Python 3.8: use time.perf_counter or time.process_time instead\n",
      "  \"\"\"Entry point for launching an IPython kernel.\n",
      "C:\\Users\\Rafael\\Miniconda3\\lib\\site-packages\\ipykernel_launcher.py:2: DeprecationWarning: time.clock has been deprecated in Python 3.3 and will be removed from Python 3.8: use time.perf_counter or time.process_time instead\n",
      "  \n"
     ]
    },
    {
     "data": {
      "text/plain": [
       "0.00014149999879009556"
      ]
     },
     "execution_count": 147,
     "metadata": {},
     "output_type": "execute_result"
    }
   ],
   "source": [
    "start_time = time.clock()\n",
    "stop_time = time.clock()\n",
    "stop_time - start_time"
   ]
  },
  {
   "cell_type": "markdown",
   "metadata": {},
   "source": [
    "# 2.4.5: Random Walks"
   ]
  },
  {
   "cell_type": "markdown",
   "metadata": {},
   "source": [
    "The basic idea behind all random walks is you have some location at time t, and from that location\n",
    "you take a step in a random direction and that generates your location at time t plus 1.\n",
    "\n",
    "To note the location of the random walker at time 2, we had the initial location plus displacement at time t equal to 1\n",
    "and t equal to 2.\n",
    "\n",
    "x(t = k)  = x0 + dx(t=1) + ... + dx(t=k)\n",
    "\n",
    "We start with x at some point in time, t is equal to k, for example. We will always have the initial location x0,\n",
    "and this is going to be followed by a sum of displacements.\n",
    "The first displacement is going to be this term delta x at time t equal to 1.\n",
    "This will be added to the displacement delta x at t equal to 2 all the way\n",
    "to displacement delta x that corresponds to t equal to k.\n",
    "\n",
    "In other words, the location of the random walker at any point in time\n",
    "is given by the initial location x0 plus the sum of all of the displacements\n",
    "from 1 to k."
   ]
  },
  {
   "cell_type": "markdown",
   "metadata": {},
   "source": [
    "Let's try coding up random walker in NumPy, where we start at the origin, take 100 steps, and where each step is sampled\n",
    "from the standard normal distribution. The normal distribution having mean 0 and standard deviation equal to 1.\n",
    "We're also going to assume that the x displacement and the y displacement for any given step are independent, such\n",
    "that the displacement in the horizontal direction has nothing to do with the displacement in the vertical direction."
   ]
  },
  {
   "cell_type": "code",
   "execution_count": 2,
   "metadata": {},
   "outputs": [
    {
     "data": {
      "text/plain": [
       "array([[ 0.99876421,  0.31932148, -0.04045495,  0.17620892, -0.72830065],\n",
       "       [-0.51857035, -0.83358913, -0.33773047, -0.51936396,  1.34415006]])"
      ]
     },
     "execution_count": 2,
     "metadata": {},
     "output_type": "execute_result"
    }
   ],
   "source": [
    "# Let's generate a two by five table of numbers for each element, each of the 10 numbers is drawn independently\n",
    "# from a standard normal distribution.\n",
    "\n",
    "import numpy as np\n",
    "\n",
    "np.random.normal(0, 1, (2,5)) # mean, standard deviation, 2 by 5 table -> two rows and 5 columns"
   ]
  },
  {
   "cell_type": "code",
   "execution_count": 5,
   "metadata": {},
   "outputs": [],
   "source": [
    "delta_X = np.random.normal(0, 1, (2,5)) # Will call this table delta x, this encodes the displacements of the random walker."
   ]
  },
  {
   "cell_type": "code",
   "execution_count": 8,
   "metadata": {},
   "outputs": [
    {
     "data": {
      "text/plain": [
       "array([[-0.50149585,  1.12588038, -0.10838005, -0.50779245,  0.52033453],\n",
       "       [-1.1060351 , -0.83967496, -0.12718241, -0.92036651, -0.56680014]])"
      ]
     },
     "execution_count": 8,
     "metadata": {},
     "output_type": "execute_result"
    }
   ],
   "source": [
    "delta_X"
   ]
  },
  {
   "cell_type": "code",
   "execution_count": 7,
   "metadata": {},
   "outputs": [
    {
     "data": {
      "text/plain": [
       "array([-0.50149585,  1.12588038, -0.10838005, -0.50779245,  0.52033453])"
      ]
     },
     "execution_count": 7,
     "metadata": {},
     "output_type": "execute_result"
    }
   ],
   "source": [
    "delta_X[0]"
   ]
  },
  {
   "cell_type": "code",
   "execution_count": 6,
   "metadata": {},
   "outputs": [
    {
     "data": {
      "text/plain": [
       "[<matplotlib.lines.Line2D at 0x11fa60ab448>]"
      ]
     },
     "execution_count": 6,
     "metadata": {},
     "output_type": "execute_result"
    },
    {
     "data": {
      "image/png": "[encoded data removed]",
      "text/plain": [
       "<Figure size 432x288 with 1 Axes>"
      ]
     },
     "metadata": {
      "needs_background": "light"
     },
     "output_type": "display_data"
    }
   ],
   "source": [
    "import matplotlib.pyplot as plt\n",
    "\n",
    "# We can take the first component of each vector as the x-coordinate and the second component as the y coordinate.\n",
    "\n",
    "plt.plot(delta_X[0], delta_X[1], \"go\")  # [0], the first row as our X axis and [1], the second row as the y axis"
   ]
  },
  {
   "cell_type": "code",
   "execution_count": 9,
   "metadata": {},
   "outputs": [
    {
     "data": {
      "text/plain": [
       "array([[-0.50149585,  0.62438453,  0.51600448,  0.00821203,  0.52854657],\n",
       "       [-1.1060351 , -1.94571006, -2.07289246, -2.99325897, -3.56005911]])"
      ]
     },
     "execution_count": 9,
     "metadata": {},
     "output_type": "execute_result"
    }
   ],
   "source": [
    "X = np.cumsum(delta_X, axis = 1 ) # axis = 1 because we would like to take the cumulative sum over the columns of this array.\n",
    "X"
   ]
  },
  {
   "cell_type": "code",
   "execution_count": 45,
   "metadata": {},
   "outputs": [
    {
     "data": {
      "image/png": "[encoded data removed]",
      "text/plain": [
       "<Figure size 432x288 with 1 Axes>"
      ]
     },
     "metadata": {
      "needs_background": "light"
     },
     "output_type": "display_data"
    }
   ],
   "source": [
    "delta_X = np.random.normal(0, 1, (2,5)) # Will call this table delta x, this encodes the displacements of the random walker.\n",
    "X = np.cumsum(delta_X, axis = 1 ) # the position of the random walker at any given time.\n",
    "plt.plot(X[0], X[1], \"ro-\")\n",
    "plt.savefig('random-walk.pdf')"
   ]
  },
  {
   "cell_type": "code",
   "execution_count": 23,
   "metadata": {},
   "outputs": [
    {
     "data": {
      "text/plain": [
       "array([[ 0.        , -1.91761911, -3.17164104, -3.34279825, -3.73389283,\n",
       "        -3.01052935],\n",
       "       [ 0.        ,  0.36493285, -1.29440716, -0.85322206, -1.80863771,\n",
       "        -1.30048708]])"
      ]
     },
     "execution_count": 23,
     "metadata": {},
     "output_type": "execute_result"
    }
   ],
   "source": [
    "# Right now we're missing that very first point. But let's add that element to our array.\n",
    "# How to concatenate NumPy arrays?\n",
    "\n",
    "X_0 = np.array([[0], [0]])\n",
    "# It consists of two rows, each having just one element, 0. These array X_0 gives us the initial location of the random walker.\n",
    "\n",
    "X = np.concatenate((X_0, np.cumsum(delta_X, axis = 1)), axis = 1) \n",
    "\n",
    "# the position of the random walker at any given time including the origin point\n",
    "\n",
    "X # we can see that the first element is zero"
   ]
  },
  {
   "cell_type": "code",
   "execution_count": 46,
   "metadata": {},
   "outputs": [
    {
     "data": {
      "image/png": "[encoded data removed]",
      "text/plain": [
       "<Figure size 432x288 with 1 Axes>"
      ]
     },
     "metadata": {
      "needs_background": "light"
     },
     "output_type": "display_data"
    }
   ],
   "source": [
    "X_0 = np.array([[0], [0]])\n",
    "delta_X = np.random.normal(0, 1,(2,5))\n",
    "X = np.concatenate((X_0,np.cumsum(delta_X, axis = 1)), axis = 1) \n",
    "plt.plot(X[0], X[1], \"ro-\")\n",
    "plt.savefig('random-walk2.pdf')"
   ]
  },
  {
   "cell_type": "code",
   "execution_count": 54,
   "metadata": {},
   "outputs": [
    {
     "data": {
      "image/png": "[encoded data removed]",
      "text/plain": [
       "<Figure size 432x288 with 1 Axes>"
      ]
     },
     "metadata": {
      "needs_background": "light"
     },
     "output_type": "display_data"
    }
   ],
   "source": [
    "X_0 = np.array([[0], [0]])\n",
    "delta_X = np.random.normal(0, 1,(2,100))\n",
    "X = np.concatenate((X_0,np.cumsum(delta_X, axis = 1)), axis = 1) \n",
    "plt.plot(X[0], X[1], \"ro-\")\n",
    "plt.savefig('random-walk3.pdf')"
   ]
  },
  {
   "cell_type": "code",
   "execution_count": null,
   "metadata": {},
   "outputs": [],
   "source": []
  },
  {
   "cell_type": "code",
   "execution_count": null,
   "metadata": {},
   "outputs": [],
   "source": []
  }
 ],
 "metadata": {
  "kernelspec": {
   "display_name": "Python 3",
   "language": "python",
   "name": "python3"
  },
  "language_info": {
   "codemirror_mode": {
    "name": "ipython",
    "version": 3
   },
   "file_extension": ".py",
   "mimetype": "text/x-python",
   "name": "python",
   "nbconvert_exporter": "python",
   "pygments_lexer": "ipython3",
   "version": "3.7.9"
  }
 },
 "nbformat": 4,
 "nbformat_minor": 4
}
