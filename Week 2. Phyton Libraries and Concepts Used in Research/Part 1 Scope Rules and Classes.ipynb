{
 "cells": [
  {
   "cell_type": "markdown",
   "metadata": {},
   "source": [
    "Week 2 introduces you to Python libraries and concepts used in research.\n",
    "\n",
    "In week 2, you will:\n",
    "\n",
    "Learn about Python scope rules\n",
    "Learn the basics of scientific and vectorized computing using numpy\n",
    "Learn the basics of plotting with matplotlib.pyplot\n",
    "Learn the basics of random numbers with the random module\n",
    "Learn how to measure time\n",
    "Week 2 is divided into four parts. Part 1 covers scope rules and classes. Part 2 covers NumPy. Part 3 covers Matplotlib and Pyplot. Part 4 covers randomness and time. Comprehension checks follow most videos. There is also one homework assignment that will allow you to practice your coding skills.\n",
    "\n",
    "Some of the Comprehension Checks will require you to work through code. We encourage you to use Python to interactively test out your answers and further your learning."
   ]
  },
  {
   "cell_type": "markdown",
   "metadata": {},
   "source": [
    "# 2.1.1: Scope Rules\n"
   ]
  },
  {
   "cell_type": "markdown",
   "metadata": {},
   "source": [
    "Consider a situation where, in different places of your code, you have to find several functions called \"update,\"\n",
    "or several variables called \"x.\"\n",
    "\n",
    "We know from before that each variable name belongs to a certain abstract environment or namespace,\n",
    "and we can think of it as a context in which a given name exists.\n",
    "\n",
    "So when you talk about your friend John, your other friends know intuitively which John you're talking about.\n",
    "But how does Python know which update function to call or which variable x to use?\n",
    "The answer is that it uses so-called \"scope rules\" to make this determination. \n",
    "\n",
    "It searches for the object, layer by layer, moving from inner layers towards outer layers,\n",
    "and it uses the first update function or the first x variable that it finds.\n",
    "\n",
    "You can memorize this scope rule by the acronym LEGB.\n",
    "L - Local\n",
    "E - Enclosing function\n",
    "G - Global\n",
    "B - Built-in \n",
    "\n",
    "Local is the current function you're in. Enclosing function is the function that called the current function, if any.\n",
    "Global refers to the module in which the function was defined. And built-in refers to Python's built-in namespace.\n"
   ]
  },
  {
   "cell_type": "code",
   "execution_count": 5,
   "metadata": {},
   "outputs": [],
   "source": [
    "def update():\n",
    "    x.append(1) # this function appends the number 1 to an object called x\n",
    "    \n",
    "update()\n",
    "# should give an error as x is not defined. In this case nothing happens"
   ]
  },
  {
   "cell_type": "code",
   "execution_count": 8,
   "metadata": {},
   "outputs": [
    {
     "data": {
      "text/plain": [
       "[1, 1, 1]"
      ]
     },
     "execution_count": 8,
     "metadata": {},
     "output_type": "execute_result"
    }
   ],
   "source": [
    "x = [1,1] \n",
    "update() # once we define x, the function works\n",
    "x"
   ]
  },
  {
   "cell_type": "markdown",
   "metadata": {},
   "source": [
    "Using the LEGB rule, it first looks for x in the local scope, inside the function update.\n",
    "But x does not exist within this scope. It then moves on to the next layer, which is enclosing functions.\n",
    "But in this case, there are no enclosing functions,\n",
    "because we didn't call the update function from inside another function.\n",
    "So let's move on to the next layer, which\n",
    "is the global layer, the module or namespace where the function update was defined.\n",
    "The global layer or scope does contain an object called x.\n",
    "It is the x that we defined right here.\n",
    "And since it is the first object of that name that Python found, this is the object that it will use.\n",
    "This example focusing in scope rules shows that you can manipulate global variables,\n",
    "variables defined in the global scope, from within functions. # now we have (1, 1, 1)\n",
    "Functions that modify either their inputs or objects defined\n",
    "in other parts of the program in this type of behind the scenes manner are said to have \"side effects.\"\n",
    "\n",
    "********This is a programming style that you should generally avoid,\n",
    "because it can lead to programming errors that are very difficult to find.\n",
    "We modified object x from within functions, which is not cool."
   ]
  },
  {
   "cell_type": "code",
   "execution_count": 10,
   "metadata": {},
   "outputs": [
    {
     "name": "stdout",
     "output_type": "stream",
     "text": [
      "main:  1 [0, 1, 2, 3]\n",
      "update:  2 [0, 1, 2, 3, 4]\n",
      "main:  1 [0, 1, 2, 3, 4]\n"
     ]
    }
   ],
   "source": [
    "# Let's then consider a slightly more complex example about scope rules.\n",
    "# This example demonstrates both scope rules and mutability and immutability of Python objects.\n",
    "\n",
    "def update(n,x):\n",
    "    n = 2\n",
    "    x.append(4)\n",
    "    print('update: ', n, x)\n",
    "    \n",
    "def main():\n",
    "    n = 1\n",
    "    x = [0,1,2,3]\n",
    "    print('main: ', n, x)\n",
    "    update(n,x) # In this case, the main function calls the update function as part of the program.\n",
    "    print('main: ', n, x)\n",
    "\n",
    "main()"
   ]
  },
  {
   "cell_type": "code",
   "execution_count": 13,
   "metadata": {},
   "outputs": [
    {
     "name": "stdout",
     "output_type": "stream",
     "text": [
      "2\n",
      "1\n"
     ]
    }
   ],
   "source": [
    "def increment(n):\n",
    "    n += 1\n",
    "    print(n)\n",
    "\n",
    "n = 1\n",
    "increment(n)\n",
    "print(n)"
   ]
  },
  {
   "cell_type": "code",
   "execution_count": null,
   "metadata": {},
   "outputs": [],
   "source": [
    "# Consider the following code:\n",
    "def increment(n):\n",
    "    n += 1\n",
    "    #blank#\n",
    "\n",
    "n = 1\n",
    "while n < 10:\n",
    "    n = increment(n)\n",
    "print(n)\n",
    "\n",
    "# Fill in the #blank# to ensure this prints 10."
   ]
  },
  {
   "cell_type": "code",
   "execution_count": 16,
   "metadata": {},
   "outputs": [
    {
     "name": "stdout",
     "output_type": "stream",
     "text": [
      "10\n"
     ]
    }
   ],
   "source": [
    "def increment(n):\n",
    "    n += 1 # assignment of increment of 1 to n .... same as n = n + 1\n",
    "    return n # returns the value of the previous step to 'increment'\n",
    "\n",
    "n = 1 # I'm setting a value to 'n'\n",
    "while n < 10: #  its  while 1 < 10\n",
    "    n = increment(n) # n = 1+1 .. it will return until it reaches 9 because 10 is not inclusive..\n",
    "print(n) # print the last value of the while loop before it becomes 'true' which breaks the loop..\n",
    "\n",
    "# return(n) will ensure that the function returns the value.\n",
    "# This new value will be assigned to n. The while loop will continue until the condition is met."
   ]
  },
  {
   "cell_type": "markdown",
   "metadata": {},
   "source": [
    "# 2.1.2: Classes and Object-Oriented Programming\n"
   ]
  },
  {
   "cell_type": "markdown",
   "metadata": {},
   "source": [
    "In general, an object consists of both internal data and methods that perform operations on the data.\n",
    "We have actually been using objects and methods all along, such as when working with building types like lists and dictionaries.\n",
    "\n",
    "You may find at some point that an existing object type doesn't fully suit your needs, in which case you can create\n",
    "a new type of object known as a class.\n",
    "\n",
    "Often it is the case that even if you need to create a new object type, it is likely that this new object type resembles,\n",
    "in some way, an existing one.\n",
    "\n",
    "This brings us to inheritance, which is a fundamental aspect of object-oriented programming.\n",
    "Inheritance means that you can define a new object type, a new class, that inherits properties from an existing object\n",
    "type."
   ]
  },
  {
   "cell_type": "code",
   "execution_count": 18,
   "metadata": {},
   "outputs": [
    {
     "data": {
      "text/plain": [
       "[5, 9, 3, 68, 11, 4, 3]"
      ]
     },
     "execution_count": 18,
     "metadata": {},
     "output_type": "execute_result"
    }
   ],
   "source": [
    "# As a quick reminder of how we've been using methods so far, let's define a list, ml, which consists of a sequence of numbers.\n",
    "\n",
    "ml = [5,9,3,68,11,4,3]\n",
    "ml"
   ]
  },
  {
   "cell_type": "code",
   "execution_count": 20,
   "metadata": {},
   "outputs": [
    {
     "data": {
      "text/plain": [
       "[3, 3, 4, 5, 9, 11, 68]"
      ]
     },
     "execution_count": 20,
     "metadata": {},
     "output_type": "execute_result"
    }
   ],
   "source": [
    "# If I wanted to sort this list, I can use the sort method which is provided by the ml object, a list.\n",
    "\n",
    "ml.sort()\n",
    "ml"
   ]
  },
  {
   "cell_type": "code",
   "execution_count": null,
   "metadata": {},
   "outputs": [],
   "source": [
    "# Let's look at an example of how to create a new class, essentially a new type of Python object.\n",
    "\n",
    "\n",
    "class Mylist(list): \n",
    "    \n",
    "# A class is defined using the class statement.\n",
    "\n",
    "# The name of the class-- in this case, MyList-- immediately follows the word, \"class\".\n",
    "\n",
    "# When a class is created via inheritance, the new class inherits the attributes defined by its base class, \n",
    "# the class it is inheriting attributes from-- in this case, a list.\n",
    "\n",
    "# The so-called derived class, in this case \"MyList\",can then both redefine any of the inherited attributes, and in addition\n",
    "# it can also add its own new attributes.\n",
    "\n",
    "# That's why it's helpful to think of the class statement as defining a blueprint of the new class, a new type of Python object."
   ]
  },
  {
   "cell_type": "code",
   "execution_count": 31,
   "metadata": {},
   "outputs": [
    {
     "data": {
      "text/plain": [
       "[5, 2, 9, 11, 10, 2, 7]"
      ]
     },
     "execution_count": 31,
     "metadata": {},
     "output_type": "execute_result"
    }
   ],
   "source": [
    "x = [5,2,9,11,10,2,7]\n",
    "x"
   ]
  },
  {
   "cell_type": "code",
   "execution_count": 32,
   "metadata": {},
   "outputs": [
    {
     "data": {
      "text/plain": [
       "2"
      ]
     },
     "execution_count": 32,
     "metadata": {},
     "output_type": "execute_result"
    }
   ],
   "source": [
    "min(x) #I can use the min function to find the smallest element of the list, x"
   ]
  },
  {
   "cell_type": "code",
   "execution_count": 33,
   "metadata": {},
   "outputs": [
    {
     "data": {
      "text/plain": [
       "11"
      ]
     },
     "execution_count": 33,
     "metadata": {},
     "output_type": "execute_result"
    }
   ],
   "source": [
    "max(x)"
   ]
  },
  {
   "cell_type": "code",
   "execution_count": 34,
   "metadata": {},
   "outputs": [
    {
     "data": {
      "text/plain": [
       "[5, 2, 9, 11, 2, 7]"
      ]
     },
     "execution_count": 34,
     "metadata": {},
     "output_type": "execute_result"
    }
   ],
   "source": [
    "# Let's also remind ourselves how to remove elements from a list.\n",
    "\n",
    "x.remove(10)\n",
    "x\n",
    "\n",
    "# Now 10 is gone"
   ]
  },
  {
   "cell_type": "code",
   "execution_count": 35,
   "metadata": {},
   "outputs": [],
   "source": [
    "x.remove(2) \n",
    "# One thing to note is that if the given value appears on the list multiple times, only its first occurrence is removed."
   ]
  },
  {
   "cell_type": "code",
   "execution_count": 36,
   "metadata": {},
   "outputs": [
    {
     "data": {
      "text/plain": [
       "[5, 9, 11, 2, 7]"
      ]
     },
     "execution_count": 36,
     "metadata": {},
     "output_type": "execute_result"
    }
   ],
   "source": [
    "x # only the first 2 was removed"
   ]
  },
  {
   "cell_type": "code",
   "execution_count": 37,
   "metadata": {},
   "outputs": [],
   "source": [
    "class Mylist(list):\n",
    "    def remove_min(self):\n",
    "        self.remove(min(self))\n",
    "    def remove_max(self):\n",
    "        self.remove(max(self))\n",
    "        \n",
    "# You can see that it contains two def statements that I used to define functions.\n",
    "# The functions defined inside a class are known as \"instance methods\" because they operate on an instance of the class.\n",
    "# By convention, the name of the class instance is called \"self\", and it is always passed as the first argument\n",
    "# to the functions defined as part of a class. Here we define two functions, two instance methods,"
   ]
  },
  {
   "cell_type": "code",
   "execution_count": 38,
   "metadata": {},
   "outputs": [
    {
     "data": {
      "text/plain": [
       "[10, 3, 5, 1, 2, 7, 6, 4, 8]"
      ]
     },
     "execution_count": 38,
     "metadata": {},
     "output_type": "execute_result"
    }
   ],
   "source": [
    "# Let's then demonstrate the use of our newly defined class, MyList.\n",
    "\n",
    "x = [10,3,5,1,2,7,6,4,8]\n",
    "\n",
    "y = Mylist(x) # y contains a copy of all of the numbers in x.\n",
    "\n",
    "y"
   ]
  },
  {
   "cell_type": "code",
   "execution_count": 39,
   "metadata": {},
   "outputs": [
    {
     "data": {
      "text/plain": [
       "['__add__',\n",
       " '__class__',\n",
       " '__contains__',\n",
       " '__delattr__',\n",
       " '__delitem__',\n",
       " '__dict__',\n",
       " '__dir__',\n",
       " '__doc__',\n",
       " '__eq__',\n",
       " '__format__',\n",
       " '__ge__',\n",
       " '__getattribute__',\n",
       " '__getitem__',\n",
       " '__gt__',\n",
       " '__hash__',\n",
       " '__iadd__',\n",
       " '__imul__',\n",
       " '__init__',\n",
       " '__init_subclass__',\n",
       " '__iter__',\n",
       " '__le__',\n",
       " '__len__',\n",
       " '__lt__',\n",
       " '__module__',\n",
       " '__mul__',\n",
       " '__ne__',\n",
       " '__new__',\n",
       " '__reduce__',\n",
       " '__reduce_ex__',\n",
       " '__repr__',\n",
       " '__reversed__',\n",
       " '__rmul__',\n",
       " '__setattr__',\n",
       " '__setitem__',\n",
       " '__sizeof__',\n",
       " '__str__',\n",
       " '__subclasshook__',\n",
       " '__weakref__',\n",
       " 'append',\n",
       " 'clear',\n",
       " 'copy',\n",
       " 'count',\n",
       " 'extend',\n",
       " 'index',\n",
       " 'insert',\n",
       " 'pop',\n",
       " 'remove',\n",
       " 'remove_max',\n",
       " 'remove_min',\n",
       " 'reverse',\n",
       " 'sort']"
      ]
     },
     "execution_count": 39,
     "metadata": {},
     "output_type": "execute_result"
    }
   ],
   "source": [
    "# we can ask python for a directory of methods avaialable for our object y \n",
    "dir(y)\n",
    "# we can see that remove max and remove min are available"
   ]
  },
  {
   "cell_type": "code",
   "execution_count": 40,
   "metadata": {},
   "outputs": [
    {
     "data": {
      "text/plain": [
       "[10, 3, 5, 2, 7, 6, 4, 8]"
      ]
     },
     "execution_count": 40,
     "metadata": {},
     "output_type": "execute_result"
    }
   ],
   "source": [
    "y.remove_min()\n",
    "y"
   ]
  },
  {
   "cell_type": "code",
   "execution_count": null,
   "metadata": {},
   "outputs": [],
   "source": [
    "class NewList(list):\n",
    "    def remove_max(self):\n",
    "        self.remove(max(self))\n",
    "    def append_sum(self):\n",
    "        self.append(sum(self))\n",
    "\n",
    "x = NewList([1,2,3])\n",
    "while max(x) < 10:\n",
    "    x.remove_max()\n",
    "    x.append_sum()\n",
    "\n",
    "print(x)\n",
    "\n",
    "\n",
    "# What will this print?\n",
    "\n",
    "# Nothing: this program will never halt.\n",
    "\n",
    "# Upon first removing the maximal element (3 ) and adding then sum of the MyList object (3 ), the object has the same\n",
    "# elements in the same locations as before ([1, 2, 3] ). Therefore, the while condition will always be met, and the \n",
    "# program will run as long as it can."
   ]
  },
  {
   "cell_type": "code",
   "execution_count": null,
   "metadata": {},
   "outputs": [],
   "source": []
  }
 ],
 "metadata": {
  "kernelspec": {
   "display_name": "Python 3",
   "language": "python",
   "name": "python3"
  },
  "language_info": {
   "codemirror_mode": {
    "name": "ipython",
    "version": 3
   },
   "file_extension": ".py",
   "mimetype": "text/x-python",
   "name": "python",
   "nbconvert_exporter": "python",
   "pygments_lexer": "ipython3",
   "version": "3.7.9"
  }
 },
 "nbformat": 4,
 "nbformat_minor": 4
}
